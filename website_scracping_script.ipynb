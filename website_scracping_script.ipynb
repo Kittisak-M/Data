{
  "cells": [
    {
      "cell_type": "markdown",
      "id": "246e7be2",
      "metadata": {},
      "source": [
        "# Collect Data by Scraping using Script"
      ]
    },
    {
      "cell_type": "code",
      "execution_count": 1,
      "id": "9a697931",
      "metadata": {
        "id": "9a697931"
      },
      "outputs": [
        {
          "ename": "ModuleNotFoundError",
          "evalue": "No module named 'webdriver_manager'",
          "output_type": "error",
          "traceback": [
            "\u001b[1;31m---------------------------------------------------------------------------\u001b[0m",
            "\u001b[1;31mModuleNotFoundError\u001b[0m                       Traceback (most recent call last)",
            "Cell \u001b[1;32mIn[1], line 16\u001b[0m\n\u001b[0;32m     14\u001b[0m \u001b[38;5;28;01mfrom\u001b[39;00m \u001b[38;5;21;01mselenium\u001b[39;00m\u001b[38;5;21;01m.\u001b[39;00m\u001b[38;5;21;01mwebdriver\u001b[39;00m\u001b[38;5;21;01m.\u001b[39;00m\u001b[38;5;21;01msupport\u001b[39;00m\u001b[38;5;21;01m.\u001b[39;00m\u001b[38;5;21;01mui\u001b[39;00m \u001b[38;5;28;01mimport\u001b[39;00m WebDriverWait\n\u001b[0;32m     15\u001b[0m \u001b[38;5;28;01mfrom\u001b[39;00m \u001b[38;5;21;01mselenium\u001b[39;00m\u001b[38;5;21;01m.\u001b[39;00m\u001b[38;5;21;01mwebdriver\u001b[39;00m\u001b[38;5;21;01m.\u001b[39;00m\u001b[38;5;21;01msupport\u001b[39;00m \u001b[38;5;28;01mimport\u001b[39;00m expected_conditions \u001b[38;5;28;01mas\u001b[39;00m EC\n\u001b[1;32m---> 16\u001b[0m \u001b[38;5;28;01mfrom\u001b[39;00m \u001b[38;5;21;01mwebdriver_manager\u001b[39;00m\u001b[38;5;21;01m.\u001b[39;00m\u001b[38;5;21;01mchrome\u001b[39;00m \u001b[38;5;28;01mimport\u001b[39;00m ChromeDriverManager\n\u001b[0;32m     17\u001b[0m \u001b[38;5;28;01mfrom\u001b[39;00m \u001b[38;5;21;01mselenium\u001b[39;00m\u001b[38;5;21;01m.\u001b[39;00m\u001b[38;5;21;01mcommon\u001b[39;00m\u001b[38;5;21;01m.\u001b[39;00m\u001b[38;5;21;01mexceptions\u001b[39;00m \u001b[38;5;28;01mimport\u001b[39;00m StaleElementReferenceException, TimeoutException\n",
            "\u001b[1;31mModuleNotFoundError\u001b[0m: No module named 'webdriver_manager'"
          ]
        }
      ],
      "source": [
        "# Import packages\n",
        "import bs4\n",
        "import requests\n",
        "from bs4 import BeautifulSoup\n",
        "from urllib.parse import urljoin\n",
        "import pandas as pd\n",
        "from selenium import webdriver\n",
        "from selenium.webdriver.chrome.service import Service\n",
        "from selenium.webdriver.chrome.options import Options\n",
        "from selenium.webdriver.common.by import By\n",
        "from selenium.webdriver.common.keys import Keys\n",
        "import time\n",
        "from selenium.webdriver.chrome.service import Service as ChromeService\n",
        "from selenium.webdriver.support.ui import WebDriverWait\n",
        "from selenium.webdriver.support import expected_conditions as EC\n",
        "from webdriver_manager.chrome import ChromeDriverManager\n",
        "from selenium.common.exceptions import StaleElementReferenceException, TimeoutException"
      ]
    },
    {
      "cell_type": "markdown",
      "id": "b3feecee",
      "metadata": {},
      "source": [
        "## Selenium setup"
      ]
    },
    {
      "cell_type": "code",
      "execution_count": 2,
      "id": "4b4ca2d7",
      "metadata": {},
      "outputs": [],
      "source": [
        "driver_path = r'C:\\Program Files (x86)\\chromedriver-win64\\chromedriver.exe'\n",
        "\n",
        "def create_driver():\n",
        "    options = Options()\n",
        "    options.add_argument(\"--start-maximized\")  # Start the browser maximized\n",
        "    driver = webdriver.Chrome(service=ChromeService(ChromeDriverManager().install()), options=options)\n",
        "    return driver\n"
      ]
    },
    {
      "cell_type": "markdown",
      "id": "52ea4914",
      "metadata": {},
      "source": [
        "# Scraping Data from Jobsdb Data"
      ]
    },
    {
      "cell_type": "code",
      "execution_count": 7,
      "id": "27c5b078",
      "metadata": {
        "id": "27c5b078"
      },
      "outputs": [],
      "source": [
        "# Define the base URL and the page URL\n",
        "base_url = 'https://th.jobsdb.com'\n",
        "search_data = '/data-jobs'\n",
        "sec_page_url = '?page=2'\n",
        "\n",
        "# Fetch the webpage content\n",
        "page1 = requests.get(urljoin(base_url, search_data))\n",
        "\n",
        "# Parse the HTML content using BeautifulSoup\n",
        "soup = BeautifulSoup(page1.content, 'html.parser')"
      ]
    },
    {
      "cell_type": "code",
      "execution_count": 8,
      "id": "8958675d",
      "metadata": {
        "id": "8958675d"
      },
      "outputs": [],
      "source": [
        "box = soup.find('div',{'class':'_1decxdv0 _110qf3s4y _110qf3s4w'})"
      ]
    },
    {
      "cell_type": "code",
      "execution_count": 9,
      "id": "238d64a7",
      "metadata": {
        "id": "238d64a7"
      },
      "outputs": [],
      "source": [
        "company_name = soup.find('a', {'data-automation': 'jobCompany'})\n",
        "position = soup.find('a', {'data-automation':'jobTitle'})\n",
        "location = soup.find('a', {'data-automation': 'jobLocation'})\n",
        "industry = soup.find('a',{'data-automation':'jobClassification'})\n",
        "date = soup.find('span',{'data-automation':'jobListingDate'})"
      ]
    },
    {
      "cell_type": "code",
      "execution_count": 10,
      "id": "4371d03f",
      "metadata": {
        "colab": {
          "base_uri": "https://localhost:8080/",
          "height": 36
        },
        "id": "4371d03f",
        "outputId": "ca683a47-6aa1-4766-bded-a874dee31553"
      },
      "outputs": [
        {
          "data": {
            "text/plain": [
              "'Universal Food Public Company Limited'"
            ]
          },
          "execution_count": 10,
          "metadata": {},
          "output_type": "execute_result"
        }
      ],
      "source": [
        "company_name.text"
      ]
    },
    {
      "cell_type": "code",
      "execution_count": 11,
      "id": "40b025d9",
      "metadata": {
        "colab": {
          "base_uri": "https://localhost:8080/",
          "height": 36
        },
        "id": "40b025d9",
        "outputId": "acc3c84a-2699-4c66-969b-2f7b492023ad"
      },
      "outputs": [
        {
          "data": {
            "text/plain": [
              "'Data Analyst'"
            ]
          },
          "execution_count": 11,
          "metadata": {},
          "output_type": "execute_result"
        }
      ],
      "source": [
        "position.text"
      ]
    },
    {
      "cell_type": "code",
      "execution_count": 12,
      "id": "47d6eda8",
      "metadata": {
        "colab": {
          "base_uri": "https://localhost:8080/",
          "height": 36
        },
        "id": "47d6eda8",
        "outputId": "55677ee4-a60e-4857-fa0f-bb3d0ad9b024"
      },
      "outputs": [
        {
          "data": {
            "text/plain": [
              "'Bangkok'"
            ]
          },
          "execution_count": 12,
          "metadata": {},
          "output_type": "execute_result"
        }
      ],
      "source": [
        "location.text"
      ]
    },
    {
      "cell_type": "code",
      "execution_count": 13,
      "id": "61f66d7f",
      "metadata": {
        "colab": {
          "base_uri": "https://localhost:8080/",
          "height": 36
        },
        "id": "61f66d7f",
        "outputId": "82062bad-a69e-4503-a4f6-ffff2c7743f7"
      },
      "outputs": [
        {
          "data": {
            "text/plain": [
              "'(Accounting)'"
            ]
          },
          "execution_count": 13,
          "metadata": {},
          "output_type": "execute_result"
        }
      ],
      "source": [
        "industry.text"
      ]
    },
    {
      "cell_type": "code",
      "execution_count": 14,
      "id": "94593386",
      "metadata": {
        "colab": {
          "base_uri": "https://localhost:8080/",
          "height": 36
        },
        "id": "94593386",
        "outputId": "3abbbe99-8301-47a2-c78c-31cc23683cb2"
      },
      "outputs": [
        {
          "data": {
            "text/plain": [
              "'4h ago'"
            ]
          },
          "execution_count": 14,
          "metadata": {},
          "output_type": "execute_result"
        }
      ],
      "source": [
        "date.text"
      ]
    },
    {
      "cell_type": "code",
      "execution_count": 15,
      "id": "9d89348d",
      "metadata": {
        "colab": {
          "base_uri": "https://localhost:8080/"
        },
        "id": "9d89348d",
        "outputId": "9b335cd1-8180-4ac8-8b41-2c5bde58f962"
      },
      "outputs": [
        {
          "name": "stdout",
          "output_type": "stream",
          "text": [
            "Universal Food Public Company Limited\n",
            "Data Analyst\n",
            "Bangkok\n",
            "(Accounting)\n",
            "4h ago\n"
          ]
        }
      ],
      "source": [
        "print(company_name.text)\n",
        "print(position.text)\n",
        "print(location.text)\n",
        "print(industry.text)\n",
        "print(date.text)"
      ]
    },
    {
      "cell_type": "code",
      "execution_count": 16,
      "id": "4048dba7",
      "metadata": {
        "id": "4048dba7"
      },
      "outputs": [],
      "source": [
        "company_name_list = []\n",
        "position_list = []\n",
        "location_list = []"
      ]
    },
    {
      "cell_type": "markdown",
      "id": "ddca0070",
      "metadata": {
        "id": "ddca0070"
      },
      "source": [
        "## Scrap one page to test"
      ]
    },
    {
      "cell_type": "code",
      "execution_count": 17,
      "id": "e045f4f3",
      "metadata": {
        "id": "e045f4f3"
      },
      "outputs": [],
      "source": [
        "# Extract job titles\n",
        "job_title_elements = soup.find_all('a', {'data-automation':'jobTitle'})\n",
        "job_titles = [div.get_text(strip=True) for div in job_title_elements]\n",
        "\n",
        "# Extract company names\n",
        "company_name_elements = soup.find_all('a', {'data-automation': 'jobCompany'})\n",
        "company_names = [a.get_text(strip=True) for a in company_name_elements]\n",
        "\n",
        "# Extract Locations\n",
        "location_elements = soup.find_all('a', {'data-automation': 'jobLocation'})\n",
        "location = [a.get_text(strip=True) for a in location_elements]\n",
        "\n",
        "# Extract industry\n",
        "industry_elements = soup.find_all('a',{'data-automation':'jobClassification'})\n",
        "industry = [a.get_text(strip=True) for a in industry_elements]\n",
        "\n",
        "# Extract time\n",
        "time_elements = soup.find_all('span',{'data-automation':'jobListingDate'})\n",
        "time = [a.get_text(strip=True) for a in time_elements]\n",
        "\n",
        "# Combine job titles and company names into a list of tuples\n",
        "data = list(zip(job_titles, company_names, location, industry,time))\n",
        "\n",
        "# Create DataFrame\n",
        "data_jobs = pd.DataFrame(data, columns=['job_title', 'company_name','location','industry','time'])"
      ]
    },
    {
      "cell_type": "code",
      "execution_count": 18,
      "id": "41bf4ba1",
      "metadata": {
        "colab": {
          "base_uri": "https://localhost:8080/",
          "height": 143
        },
        "id": "41bf4ba1",
        "outputId": "557dc4b8-ba6f-4512-8660-badc727afc1b"
      },
      "outputs": [
        {
          "data": {
            "text/html": [
              "<div>\n",
              "<style scoped>\n",
              "    .dataframe tbody tr th:only-of-type {\n",
              "        vertical-align: middle;\n",
              "    }\n",
              "\n",
              "    .dataframe tbody tr th {\n",
              "        vertical-align: top;\n",
              "    }\n",
              "\n",
              "    .dataframe thead th {\n",
              "        text-align: right;\n",
              "    }\n",
              "</style>\n",
              "<table border=\"1\" class=\"dataframe\">\n",
              "  <thead>\n",
              "    <tr style=\"text-align: right;\">\n",
              "      <th></th>\n",
              "      <th>job_title</th>\n",
              "      <th>company_name</th>\n",
              "      <th>location</th>\n",
              "      <th>industry</th>\n",
              "      <th>time</th>\n",
              "    </tr>\n",
              "  </thead>\n",
              "  <tbody>\n",
              "    <tr>\n",
              "      <th>0</th>\n",
              "      <td>Data Analyst</td>\n",
              "      <td>Universal Food Public Company Limited</td>\n",
              "      <td>Bangkok</td>\n",
              "      <td>(Accounting)</td>\n",
              "      <td>4h ago</td>\n",
              "    </tr>\n",
              "    <tr>\n",
              "      <th>1</th>\n",
              "      <td>Data Analyst</td>\n",
              "      <td>THAI UNION GROUP PCL.</td>\n",
              "      <td>Phaya Thai</td>\n",
              "      <td>(Information &amp; Communication Technology)</td>\n",
              "      <td>22h ago</td>\n",
              "    </tr>\n",
              "    <tr>\n",
              "      <th>2</th>\n",
              "      <td>Data Analytics</td>\n",
              "      <td>PTG Energy Public Company Limited</td>\n",
              "      <td>Bangkok</td>\n",
              "      <td>(Information &amp; Communication Technology)</td>\n",
              "      <td>1d ago</td>\n",
              "    </tr>\n",
              "  </tbody>\n",
              "</table>\n",
              "</div>"
            ],
            "text/plain": [
              "        job_title                           company_name    location  \\\n",
              "0    Data Analyst  Universal Food Public Company Limited     Bangkok   \n",
              "1    Data Analyst                  THAI UNION GROUP PCL.  Phaya Thai   \n",
              "2  Data Analytics      PTG Energy Public Company Limited     Bangkok   \n",
              "\n",
              "                                   industry     time  \n",
              "0                              (Accounting)   4h ago  \n",
              "1  (Information & Communication Technology)  22h ago  \n",
              "2  (Information & Communication Technology)   1d ago  "
            ]
          },
          "execution_count": 18,
          "metadata": {},
          "output_type": "execute_result"
        }
      ],
      "source": [
        "data_jobs.head(3)"
      ]
    },
    {
      "cell_type": "code",
      "execution_count": 19,
      "id": "1aa488f5",
      "metadata": {
        "colab": {
          "base_uri": "https://localhost:8080/",
          "height": 1000
        },
        "id": "1aa488f5",
        "outputId": "5552c08c-d019-4c1c-9417-99176d921d95"
      },
      "outputs": [
        {
          "name": "stdout",
          "output_type": "stream",
          "text": [
            "Successfully scraped page 1\n",
            "Successfully scraped page 2\n",
            "Successfully scraped page 3\n",
            "Successfully scraped page 4\n",
            "Successfully scraped page 5\n",
            "Successfully scraped page 6\n",
            "Successfully scraped page 7\n",
            "Successfully scraped page 8\n",
            "Successfully scraped page 9\n",
            "Successfully scraped page 10\n"
          ]
        },
        {
          "ename": "KeyboardInterrupt",
          "evalue": "",
          "output_type": "error",
          "traceback": [
            "\u001b[1;31m---------------------------------------------------------------------------\u001b[0m",
            "\u001b[1;31mKeyboardInterrupt\u001b[0m                         Traceback (most recent call last)",
            "Cell \u001b[1;32mIn[19], line 8\u001b[0m\n\u001b[0;32m      6\u001b[0m \u001b[38;5;28;01mwhile\u001b[39;00m \u001b[38;5;28;01mTrue\u001b[39;00m:\n\u001b[0;32m      7\u001b[0m     url \u001b[38;5;241m=\u001b[39m \u001b[38;5;124mf\u001b[39m\u001b[38;5;124m\"\u001b[39m\u001b[38;5;124mhttps://th.jobsdb.com/data-jobs?page=\u001b[39m\u001b[38;5;132;01m{\u001b[39;00mpage_number\u001b[38;5;132;01m}\u001b[39;00m\u001b[38;5;124m\"\u001b[39m\n\u001b[1;32m----> 8\u001b[0m     response \u001b[38;5;241m=\u001b[39m \u001b[43mrequests\u001b[49m\u001b[38;5;241;43m.\u001b[39;49m\u001b[43mget\u001b[49m\u001b[43m(\u001b[49m\u001b[43murl\u001b[49m\u001b[43m)\u001b[49m\n\u001b[0;32m     10\u001b[0m     \u001b[38;5;28;01mif\u001b[39;00m response\u001b[38;5;241m.\u001b[39mstatus_code \u001b[38;5;241m!=\u001b[39m \u001b[38;5;241m200\u001b[39m:\n\u001b[0;32m     11\u001b[0m         \u001b[38;5;28mprint\u001b[39m(\u001b[38;5;124m\"\u001b[39m\u001b[38;5;124mFailed to retrieve page\u001b[39m\u001b[38;5;124m\"\u001b[39m)\n",
            "File \u001b[1;32m~\\AppData\\Local\\Packages\\PythonSoftwareFoundation.Python.3.12_qbz5n2kfra8p0\\LocalCache\\local-packages\\Python312\\site-packages\\requests\\api.py:73\u001b[0m, in \u001b[0;36mget\u001b[1;34m(url, params, **kwargs)\u001b[0m\n\u001b[0;32m     62\u001b[0m \u001b[38;5;28;01mdef\u001b[39;00m \u001b[38;5;21mget\u001b[39m(url, params\u001b[38;5;241m=\u001b[39m\u001b[38;5;28;01mNone\u001b[39;00m, \u001b[38;5;241m*\u001b[39m\u001b[38;5;241m*\u001b[39mkwargs):\n\u001b[0;32m     63\u001b[0m \u001b[38;5;250m    \u001b[39m\u001b[38;5;124mr\u001b[39m\u001b[38;5;124;03m\"\"\"Sends a GET request.\u001b[39;00m\n\u001b[0;32m     64\u001b[0m \n\u001b[0;32m     65\u001b[0m \u001b[38;5;124;03m    :param url: URL for the new :class:`Request` object.\u001b[39;00m\n\u001b[1;32m   (...)\u001b[0m\n\u001b[0;32m     70\u001b[0m \u001b[38;5;124;03m    :rtype: requests.Response\u001b[39;00m\n\u001b[0;32m     71\u001b[0m \u001b[38;5;124;03m    \"\"\"\u001b[39;00m\n\u001b[1;32m---> 73\u001b[0m     \u001b[38;5;28;01mreturn\u001b[39;00m \u001b[43mrequest\u001b[49m\u001b[43m(\u001b[49m\u001b[38;5;124;43m\"\u001b[39;49m\u001b[38;5;124;43mget\u001b[39;49m\u001b[38;5;124;43m\"\u001b[39;49m\u001b[43m,\u001b[49m\u001b[43m \u001b[49m\u001b[43murl\u001b[49m\u001b[43m,\u001b[49m\u001b[43m \u001b[49m\u001b[43mparams\u001b[49m\u001b[38;5;241;43m=\u001b[39;49m\u001b[43mparams\u001b[49m\u001b[43m,\u001b[49m\u001b[43m \u001b[49m\u001b[38;5;241;43m*\u001b[39;49m\u001b[38;5;241;43m*\u001b[39;49m\u001b[43mkwargs\u001b[49m\u001b[43m)\u001b[49m\n",
            "File \u001b[1;32m~\\AppData\\Local\\Packages\\PythonSoftwareFoundation.Python.3.12_qbz5n2kfra8p0\\LocalCache\\local-packages\\Python312\\site-packages\\requests\\api.py:59\u001b[0m, in \u001b[0;36mrequest\u001b[1;34m(method, url, **kwargs)\u001b[0m\n\u001b[0;32m     55\u001b[0m \u001b[38;5;66;03m# By using the 'with' statement we are sure the session is closed, thus we\u001b[39;00m\n\u001b[0;32m     56\u001b[0m \u001b[38;5;66;03m# avoid leaving sockets open which can trigger a ResourceWarning in some\u001b[39;00m\n\u001b[0;32m     57\u001b[0m \u001b[38;5;66;03m# cases, and look like a memory leak in others.\u001b[39;00m\n\u001b[0;32m     58\u001b[0m \u001b[38;5;28;01mwith\u001b[39;00m sessions\u001b[38;5;241m.\u001b[39mSession() \u001b[38;5;28;01mas\u001b[39;00m session:\n\u001b[1;32m---> 59\u001b[0m     \u001b[38;5;28;01mreturn\u001b[39;00m \u001b[43msession\u001b[49m\u001b[38;5;241;43m.\u001b[39;49m\u001b[43mrequest\u001b[49m\u001b[43m(\u001b[49m\u001b[43mmethod\u001b[49m\u001b[38;5;241;43m=\u001b[39;49m\u001b[43mmethod\u001b[49m\u001b[43m,\u001b[49m\u001b[43m \u001b[49m\u001b[43murl\u001b[49m\u001b[38;5;241;43m=\u001b[39;49m\u001b[43murl\u001b[49m\u001b[43m,\u001b[49m\u001b[43m \u001b[49m\u001b[38;5;241;43m*\u001b[39;49m\u001b[38;5;241;43m*\u001b[39;49m\u001b[43mkwargs\u001b[49m\u001b[43m)\u001b[49m\n",
            "File \u001b[1;32m~\\AppData\\Local\\Packages\\PythonSoftwareFoundation.Python.3.12_qbz5n2kfra8p0\\LocalCache\\local-packages\\Python312\\site-packages\\requests\\sessions.py:589\u001b[0m, in \u001b[0;36mSession.request\u001b[1;34m(self, method, url, params, data, headers, cookies, files, auth, timeout, allow_redirects, proxies, hooks, stream, verify, cert, json)\u001b[0m\n\u001b[0;32m    584\u001b[0m send_kwargs \u001b[38;5;241m=\u001b[39m {\n\u001b[0;32m    585\u001b[0m     \u001b[38;5;124m\"\u001b[39m\u001b[38;5;124mtimeout\u001b[39m\u001b[38;5;124m\"\u001b[39m: timeout,\n\u001b[0;32m    586\u001b[0m     \u001b[38;5;124m\"\u001b[39m\u001b[38;5;124mallow_redirects\u001b[39m\u001b[38;5;124m\"\u001b[39m: allow_redirects,\n\u001b[0;32m    587\u001b[0m }\n\u001b[0;32m    588\u001b[0m send_kwargs\u001b[38;5;241m.\u001b[39mupdate(settings)\n\u001b[1;32m--> 589\u001b[0m resp \u001b[38;5;241m=\u001b[39m \u001b[38;5;28;43mself\u001b[39;49m\u001b[38;5;241;43m.\u001b[39;49m\u001b[43msend\u001b[49m\u001b[43m(\u001b[49m\u001b[43mprep\u001b[49m\u001b[43m,\u001b[49m\u001b[43m \u001b[49m\u001b[38;5;241;43m*\u001b[39;49m\u001b[38;5;241;43m*\u001b[39;49m\u001b[43msend_kwargs\u001b[49m\u001b[43m)\u001b[49m\n\u001b[0;32m    591\u001b[0m \u001b[38;5;28;01mreturn\u001b[39;00m resp\n",
            "File \u001b[1;32m~\\AppData\\Local\\Packages\\PythonSoftwareFoundation.Python.3.12_qbz5n2kfra8p0\\LocalCache\\local-packages\\Python312\\site-packages\\requests\\sessions.py:746\u001b[0m, in \u001b[0;36mSession.send\u001b[1;34m(self, request, **kwargs)\u001b[0m\n\u001b[0;32m    743\u001b[0m         \u001b[38;5;28;01mpass\u001b[39;00m\n\u001b[0;32m    745\u001b[0m \u001b[38;5;28;01mif\u001b[39;00m \u001b[38;5;129;01mnot\u001b[39;00m stream:\n\u001b[1;32m--> 746\u001b[0m     \u001b[43mr\u001b[49m\u001b[38;5;241;43m.\u001b[39;49m\u001b[43mcontent\u001b[49m\n\u001b[0;32m    748\u001b[0m \u001b[38;5;28;01mreturn\u001b[39;00m r\n",
            "File \u001b[1;32m~\\AppData\\Local\\Packages\\PythonSoftwareFoundation.Python.3.12_qbz5n2kfra8p0\\LocalCache\\local-packages\\Python312\\site-packages\\requests\\models.py:902\u001b[0m, in \u001b[0;36mResponse.content\u001b[1;34m(self)\u001b[0m\n\u001b[0;32m    900\u001b[0m         \u001b[38;5;28mself\u001b[39m\u001b[38;5;241m.\u001b[39m_content \u001b[38;5;241m=\u001b[39m \u001b[38;5;28;01mNone\u001b[39;00m\n\u001b[0;32m    901\u001b[0m     \u001b[38;5;28;01melse\u001b[39;00m:\n\u001b[1;32m--> 902\u001b[0m         \u001b[38;5;28mself\u001b[39m\u001b[38;5;241m.\u001b[39m_content \u001b[38;5;241m=\u001b[39m \u001b[38;5;124;43mb\u001b[39;49m\u001b[38;5;124;43m\"\u001b[39;49m\u001b[38;5;124;43m\"\u001b[39;49m\u001b[38;5;241;43m.\u001b[39;49m\u001b[43mjoin\u001b[49m\u001b[43m(\u001b[49m\u001b[38;5;28;43mself\u001b[39;49m\u001b[38;5;241;43m.\u001b[39;49m\u001b[43miter_content\u001b[49m\u001b[43m(\u001b[49m\u001b[43mCONTENT_CHUNK_SIZE\u001b[49m\u001b[43m)\u001b[49m\u001b[43m)\u001b[49m \u001b[38;5;129;01mor\u001b[39;00m \u001b[38;5;124mb\u001b[39m\u001b[38;5;124m\"\u001b[39m\u001b[38;5;124m\"\u001b[39m\n\u001b[0;32m    904\u001b[0m \u001b[38;5;28mself\u001b[39m\u001b[38;5;241m.\u001b[39m_content_consumed \u001b[38;5;241m=\u001b[39m \u001b[38;5;28;01mTrue\u001b[39;00m\n\u001b[0;32m    905\u001b[0m \u001b[38;5;66;03m# don't need to release the connection; that's been handled by urllib3\u001b[39;00m\n\u001b[0;32m    906\u001b[0m \u001b[38;5;66;03m# since we exhausted the data.\u001b[39;00m\n",
            "File \u001b[1;32m~\\AppData\\Local\\Packages\\PythonSoftwareFoundation.Python.3.12_qbz5n2kfra8p0\\LocalCache\\local-packages\\Python312\\site-packages\\requests\\models.py:820\u001b[0m, in \u001b[0;36mResponse.iter_content.<locals>.generate\u001b[1;34m()\u001b[0m\n\u001b[0;32m    818\u001b[0m \u001b[38;5;28;01mif\u001b[39;00m \u001b[38;5;28mhasattr\u001b[39m(\u001b[38;5;28mself\u001b[39m\u001b[38;5;241m.\u001b[39mraw, \u001b[38;5;124m\"\u001b[39m\u001b[38;5;124mstream\u001b[39m\u001b[38;5;124m\"\u001b[39m):\n\u001b[0;32m    819\u001b[0m     \u001b[38;5;28;01mtry\u001b[39;00m:\n\u001b[1;32m--> 820\u001b[0m         \u001b[38;5;28;01myield from\u001b[39;00m \u001b[38;5;28mself\u001b[39m\u001b[38;5;241m.\u001b[39mraw\u001b[38;5;241m.\u001b[39mstream(chunk_size, decode_content\u001b[38;5;241m=\u001b[39m\u001b[38;5;28;01mTrue\u001b[39;00m)\n\u001b[0;32m    821\u001b[0m     \u001b[38;5;28;01mexcept\u001b[39;00m ProtocolError \u001b[38;5;28;01mas\u001b[39;00m e:\n\u001b[0;32m    822\u001b[0m         \u001b[38;5;28;01mraise\u001b[39;00m ChunkedEncodingError(e)\n",
            "File \u001b[1;32m~\\AppData\\Local\\Packages\\PythonSoftwareFoundation.Python.3.12_qbz5n2kfra8p0\\LocalCache\\local-packages\\Python312\\site-packages\\urllib3\\response.py:1057\u001b[0m, in \u001b[0;36mHTTPResponse.stream\u001b[1;34m(self, amt, decode_content)\u001b[0m\n\u001b[0;32m   1041\u001b[0m \u001b[38;5;250m\u001b[39m\u001b[38;5;124;03m\"\"\"\u001b[39;00m\n\u001b[0;32m   1042\u001b[0m \u001b[38;5;124;03mA generator wrapper for the read() method. A call will block until\u001b[39;00m\n\u001b[0;32m   1043\u001b[0m \u001b[38;5;124;03m``amt`` bytes have been read from the connection or until the\u001b[39;00m\n\u001b[1;32m   (...)\u001b[0m\n\u001b[0;32m   1054\u001b[0m \u001b[38;5;124;03m    'content-encoding' header.\u001b[39;00m\n\u001b[0;32m   1055\u001b[0m \u001b[38;5;124;03m\"\"\"\u001b[39;00m\n\u001b[0;32m   1056\u001b[0m \u001b[38;5;28;01mif\u001b[39;00m \u001b[38;5;28mself\u001b[39m\u001b[38;5;241m.\u001b[39mchunked \u001b[38;5;129;01mand\u001b[39;00m \u001b[38;5;28mself\u001b[39m\u001b[38;5;241m.\u001b[39msupports_chunked_reads():\n\u001b[1;32m-> 1057\u001b[0m     \u001b[38;5;28;01myield from\u001b[39;00m \u001b[38;5;28mself\u001b[39m\u001b[38;5;241m.\u001b[39mread_chunked(amt, decode_content\u001b[38;5;241m=\u001b[39mdecode_content)\n\u001b[0;32m   1058\u001b[0m \u001b[38;5;28;01melse\u001b[39;00m:\n\u001b[0;32m   1059\u001b[0m     \u001b[38;5;28;01mwhile\u001b[39;00m \u001b[38;5;129;01mnot\u001b[39;00m is_fp_closed(\u001b[38;5;28mself\u001b[39m\u001b[38;5;241m.\u001b[39m_fp) \u001b[38;5;129;01mor\u001b[39;00m \u001b[38;5;28mlen\u001b[39m(\u001b[38;5;28mself\u001b[39m\u001b[38;5;241m.\u001b[39m_decoded_buffer) \u001b[38;5;241m>\u001b[39m \u001b[38;5;241m0\u001b[39m:\n",
            "File \u001b[1;32m~\\AppData\\Local\\Packages\\PythonSoftwareFoundation.Python.3.12_qbz5n2kfra8p0\\LocalCache\\local-packages\\Python312\\site-packages\\urllib3\\response.py:1206\u001b[0m, in \u001b[0;36mHTTPResponse.read_chunked\u001b[1;34m(self, amt, decode_content)\u001b[0m\n\u001b[0;32m   1203\u001b[0m     amt \u001b[38;5;241m=\u001b[39m \u001b[38;5;28;01mNone\u001b[39;00m\n\u001b[0;32m   1205\u001b[0m \u001b[38;5;28;01mwhile\u001b[39;00m \u001b[38;5;28;01mTrue\u001b[39;00m:\n\u001b[1;32m-> 1206\u001b[0m     \u001b[38;5;28;43mself\u001b[39;49m\u001b[38;5;241;43m.\u001b[39;49m\u001b[43m_update_chunk_length\u001b[49m\u001b[43m(\u001b[49m\u001b[43m)\u001b[49m\n\u001b[0;32m   1207\u001b[0m     \u001b[38;5;28;01mif\u001b[39;00m \u001b[38;5;28mself\u001b[39m\u001b[38;5;241m.\u001b[39mchunk_left \u001b[38;5;241m==\u001b[39m \u001b[38;5;241m0\u001b[39m:\n\u001b[0;32m   1208\u001b[0m         \u001b[38;5;28;01mbreak\u001b[39;00m\n",
            "File \u001b[1;32m~\\AppData\\Local\\Packages\\PythonSoftwareFoundation.Python.3.12_qbz5n2kfra8p0\\LocalCache\\local-packages\\Python312\\site-packages\\urllib3\\response.py:1125\u001b[0m, in \u001b[0;36mHTTPResponse._update_chunk_length\u001b[1;34m(self)\u001b[0m\n\u001b[0;32m   1123\u001b[0m \u001b[38;5;28;01mif\u001b[39;00m \u001b[38;5;28mself\u001b[39m\u001b[38;5;241m.\u001b[39mchunk_left \u001b[38;5;129;01mis\u001b[39;00m \u001b[38;5;129;01mnot\u001b[39;00m \u001b[38;5;28;01mNone\u001b[39;00m:\n\u001b[0;32m   1124\u001b[0m     \u001b[38;5;28;01mreturn\u001b[39;00m \u001b[38;5;28;01mNone\u001b[39;00m\n\u001b[1;32m-> 1125\u001b[0m line \u001b[38;5;241m=\u001b[39m \u001b[38;5;28;43mself\u001b[39;49m\u001b[38;5;241;43m.\u001b[39;49m\u001b[43m_fp\u001b[49m\u001b[38;5;241;43m.\u001b[39;49m\u001b[43mfp\u001b[49m\u001b[38;5;241;43m.\u001b[39;49m\u001b[43mreadline\u001b[49m\u001b[43m(\u001b[49m\u001b[43m)\u001b[49m  \u001b[38;5;66;03m# type: ignore[union-attr]\u001b[39;00m\n\u001b[0;32m   1126\u001b[0m line \u001b[38;5;241m=\u001b[39m line\u001b[38;5;241m.\u001b[39msplit(\u001b[38;5;124mb\u001b[39m\u001b[38;5;124m\"\u001b[39m\u001b[38;5;124m;\u001b[39m\u001b[38;5;124m\"\u001b[39m, \u001b[38;5;241m1\u001b[39m)[\u001b[38;5;241m0\u001b[39m]\n\u001b[0;32m   1127\u001b[0m \u001b[38;5;28;01mtry\u001b[39;00m:\n",
            "File \u001b[1;32mC:\\Program Files\\WindowsApps\\PythonSoftwareFoundation.Python.3.12_3.12.1520.0_x64__qbz5n2kfra8p0\\Lib\\socket.py:720\u001b[0m, in \u001b[0;36mSocketIO.readinto\u001b[1;34m(self, b)\u001b[0m\n\u001b[0;32m    718\u001b[0m \u001b[38;5;28;01mwhile\u001b[39;00m \u001b[38;5;28;01mTrue\u001b[39;00m:\n\u001b[0;32m    719\u001b[0m     \u001b[38;5;28;01mtry\u001b[39;00m:\n\u001b[1;32m--> 720\u001b[0m         \u001b[38;5;28;01mreturn\u001b[39;00m \u001b[38;5;28;43mself\u001b[39;49m\u001b[38;5;241;43m.\u001b[39;49m\u001b[43m_sock\u001b[49m\u001b[38;5;241;43m.\u001b[39;49m\u001b[43mrecv_into\u001b[49m\u001b[43m(\u001b[49m\u001b[43mb\u001b[49m\u001b[43m)\u001b[49m\n\u001b[0;32m    721\u001b[0m     \u001b[38;5;28;01mexcept\u001b[39;00m timeout:\n\u001b[0;32m    722\u001b[0m         \u001b[38;5;28mself\u001b[39m\u001b[38;5;241m.\u001b[39m_timeout_occurred \u001b[38;5;241m=\u001b[39m \u001b[38;5;28;01mTrue\u001b[39;00m\n",
            "File \u001b[1;32mC:\\Program Files\\WindowsApps\\PythonSoftwareFoundation.Python.3.12_3.12.1520.0_x64__qbz5n2kfra8p0\\Lib\\ssl.py:1252\u001b[0m, in \u001b[0;36mSSLSocket.recv_into\u001b[1;34m(self, buffer, nbytes, flags)\u001b[0m\n\u001b[0;32m   1248\u001b[0m     \u001b[38;5;28;01mif\u001b[39;00m flags \u001b[38;5;241m!=\u001b[39m \u001b[38;5;241m0\u001b[39m:\n\u001b[0;32m   1249\u001b[0m         \u001b[38;5;28;01mraise\u001b[39;00m \u001b[38;5;167;01mValueError\u001b[39;00m(\n\u001b[0;32m   1250\u001b[0m           \u001b[38;5;124m\"\u001b[39m\u001b[38;5;124mnon-zero flags not allowed in calls to recv_into() on \u001b[39m\u001b[38;5;132;01m%s\u001b[39;00m\u001b[38;5;124m\"\u001b[39m \u001b[38;5;241m%\u001b[39m\n\u001b[0;32m   1251\u001b[0m           \u001b[38;5;28mself\u001b[39m\u001b[38;5;241m.\u001b[39m\u001b[38;5;18m__class__\u001b[39m)\n\u001b[1;32m-> 1252\u001b[0m     \u001b[38;5;28;01mreturn\u001b[39;00m \u001b[38;5;28;43mself\u001b[39;49m\u001b[38;5;241;43m.\u001b[39;49m\u001b[43mread\u001b[49m\u001b[43m(\u001b[49m\u001b[43mnbytes\u001b[49m\u001b[43m,\u001b[49m\u001b[43m \u001b[49m\u001b[43mbuffer\u001b[49m\u001b[43m)\u001b[49m\n\u001b[0;32m   1253\u001b[0m \u001b[38;5;28;01melse\u001b[39;00m:\n\u001b[0;32m   1254\u001b[0m     \u001b[38;5;28;01mreturn\u001b[39;00m \u001b[38;5;28msuper\u001b[39m()\u001b[38;5;241m.\u001b[39mrecv_into(buffer, nbytes, flags)\n",
            "File \u001b[1;32mC:\\Program Files\\WindowsApps\\PythonSoftwareFoundation.Python.3.12_3.12.1520.0_x64__qbz5n2kfra8p0\\Lib\\ssl.py:1104\u001b[0m, in \u001b[0;36mSSLSocket.read\u001b[1;34m(self, len, buffer)\u001b[0m\n\u001b[0;32m   1102\u001b[0m \u001b[38;5;28;01mtry\u001b[39;00m:\n\u001b[0;32m   1103\u001b[0m     \u001b[38;5;28;01mif\u001b[39;00m buffer \u001b[38;5;129;01mis\u001b[39;00m \u001b[38;5;129;01mnot\u001b[39;00m \u001b[38;5;28;01mNone\u001b[39;00m:\n\u001b[1;32m-> 1104\u001b[0m         \u001b[38;5;28;01mreturn\u001b[39;00m \u001b[38;5;28;43mself\u001b[39;49m\u001b[38;5;241;43m.\u001b[39;49m\u001b[43m_sslobj\u001b[49m\u001b[38;5;241;43m.\u001b[39;49m\u001b[43mread\u001b[49m\u001b[43m(\u001b[49m\u001b[38;5;28;43mlen\u001b[39;49m\u001b[43m,\u001b[49m\u001b[43m \u001b[49m\u001b[43mbuffer\u001b[49m\u001b[43m)\u001b[49m\n\u001b[0;32m   1105\u001b[0m     \u001b[38;5;28;01melse\u001b[39;00m:\n\u001b[0;32m   1106\u001b[0m         \u001b[38;5;28;01mreturn\u001b[39;00m \u001b[38;5;28mself\u001b[39m\u001b[38;5;241m.\u001b[39m_sslobj\u001b[38;5;241m.\u001b[39mread(\u001b[38;5;28mlen\u001b[39m)\n",
            "\u001b[1;31mKeyboardInterrupt\u001b[0m: "
          ]
        }
      ],
      "source": [
        "all_jobs = []\n",
        "\n",
        "page_number = 1\n",
        "previous_content = \"\"\n",
        "\n",
        "while True:\n",
        "    url = f\"https://th.jobsdb.com/data-jobs?page={page_number}\"\n",
        "    response = requests.get(url)\n",
        "\n",
        "    if response.status_code != 200:\n",
        "        print(\"Failed to retrieve page\")\n",
        "        break\n",
        "\n",
        "    soup = BeautifulSoup(response.content, 'html.parser')\n",
        "\n",
        "    # Extract job titles\n",
        "    job_title_elements = soup.find_all('a', {'data-automation':'jobTitle'})\n",
        "    job_titles = [div.get_text(strip=True) for div in job_title_elements]\n",
        "\n",
        "    # Extract company names\n",
        "    company_name_elements = soup.find_all('a', {'data-automation': 'jobCompany'})\n",
        "    company_names = [a.get_text(strip=True) for a in company_name_elements]\n",
        "\n",
        "    # Extract locations\n",
        "    location_elements = soup.find_all('a', {'data-automation': 'jobLocation'})\n",
        "    locations = [a.get_text(strip=True) for a in location_elements]\n",
        "\n",
        "    # Extract industry\n",
        "    industry_elements = soup.find_all('a',{'data-automation':'jobClassification'})\n",
        "    industries = [a.get_text(strip=True) for a in industry_elements]\n",
        "\n",
        "    # Extract time (job posting date)\n",
        "    time_elements = soup.find_all('span',{'data-automation':'jobListingDate'})\n",
        "    times = [a.get_text(strip=True) for a in time_elements]\n",
        "\n",
        "    # Check if extraction was successful\n",
        "    if len(job_titles) == 0 or len(company_names) == 0 or len(locations) == 0 or len(industries) == 0 or len(times) == 0:\n",
        "        print(f\"No new jobs found on page {page_number}, stopping.\")\n",
        "        break\n",
        "        \n",
        "    page_data = list(zip(job_titles, company_names, locations, industries, times))\n",
        "    all_jobs.extend(page_data)\n",
        "\n",
        "    # Compare content to determine if the page is the same\n",
        "    current_content = \"\".join(job_titles)\n",
        "    if current_content == previous_content:\n",
        "        print(f\"No new content found on page {page_number}, stopping the loop.\")\n",
        "        break\n",
        "\n",
        "    # Success Message\n",
        "    print(f\"Successfully scraped page {page_number}\")\n",
        "\n",
        "    previous_content = current_content\n",
        "    page_number += 1\n",
        "\n",
        "# Scraped dataframe name 'jobsdb_data'\n",
        "jobsdb_data = pd.DataFrame(all_jobs, columns=['job_title', 'company_name', 'location', 'industry', 'time'])"
      ]
    },
    {
      "cell_type": "code",
      "execution_count": null,
      "id": "1fd5311f",
      "metadata": {
        "id": "1fd5311f",
        "outputId": "d053d018-17de-4914-999b-6c030d5fd877"
      },
      "outputs": [
        {
          "ename": "NameError",
          "evalue": "name 'jobsdb_data' is not defined",
          "output_type": "error",
          "traceback": [
            "\u001b[1;31m---------------------------------------------------------------------------\u001b[0m",
            "\u001b[1;31mNameError\u001b[0m                                 Traceback (most recent call last)",
            "Cell \u001b[1;32mIn[23], line 1\u001b[0m\n\u001b[1;32m----> 1\u001b[0m \u001b[43mjobsdb_data\u001b[49m\u001b[38;5;241m.\u001b[39mshape\n",
            "\u001b[1;31mNameError\u001b[0m: name 'jobsdb_data' is not defined"
          ]
        }
      ],
      "source": [
        "jobsdb_data.shape"
      ]
    },
    {
      "cell_type": "code",
      "execution_count": null,
      "id": "425dac07",
      "metadata": {
        "id": "425dac07",
        "outputId": "fbb59079-2d89-4aed-b3f3-5647ca49aa65"
      },
      "outputs": [
        {
          "ename": "NameError",
          "evalue": "name 'jobsdb_data' is not defined",
          "output_type": "error",
          "traceback": [
            "\u001b[1;31m---------------------------------------------------------------------------\u001b[0m",
            "\u001b[1;31mNameError\u001b[0m                                 Traceback (most recent call last)",
            "Cell \u001b[1;32mIn[24], line 1\u001b[0m\n\u001b[1;32m----> 1\u001b[0m \u001b[43mjobsdb_data\u001b[49m\u001b[38;5;241m.\u001b[39misnull()\u001b[38;5;241m.\u001b[39msum()\n",
            "\u001b[1;31mNameError\u001b[0m: name 'jobsdb_data' is not defined"
          ]
        }
      ],
      "source": [
        "jobsdb_data.isnull().sum()"
      ]
    },
    {
      "cell_type": "code",
      "execution_count": null,
      "id": "5ca214cd",
      "metadata": {
        "id": "5ca214cd",
        "outputId": "4136bbb6-f92b-4cb8-ebfa-ad556f4ad33d"
      },
      "outputs": [
        {
          "data": {
            "text/plain": [
              "company_name\n",
              "Agoda Services Co., Ltd.                                    326\n",
              "PERSOLKELLY HR Services Recruitment (Thailand) Co., Ltd.    158\n",
              "Company Confidential                                        117\n",
              "Western Digital (Thailand) Co., Ltd.                         89\n",
              "TikTok Pte. Ltd.                                             80\n",
              "                                                           ... \n",
              "NISSAN MOTOR ASIA PACIFIC (THAILAND) CO., LTD.                1\n",
              "Syaqua Siam Co., Ltd.                                         1\n",
              "SPIE Global Services Energy (Thailand) Co., Ltd.              1\n",
              "Herba Bangkok Sociedad Limitada                               1\n",
              "Thai Christian School (TCS)                                   1\n",
              "Name: count, Length: 1893, dtype: int64"
            ]
          },
          "metadata": {},
          "output_type": "display_data"
        }
      ],
      "source": [
        "jobsdb_data['company_name'].value_counts()"
      ]
    },
    {
      "cell_type": "code",
      "execution_count": null,
      "id": "9d2cd669",
      "metadata": {
        "id": "9d2cd669",
        "outputId": "02dd7c68-e1ed-4c3d-d675-8499d035974a"
      },
      "outputs": [
        {
          "data": {
            "text/plain": [
              "location\n",
              "Bangkok                       3327\n",
              "Chon Buri                      201\n",
              "Pathum Wan                     170\n",
              "Samut Prakan                   168\n",
              "Sathon                         144\n",
              "                              ... \n",
              "Mueang Nakhon Si Thammarat       1\n",
              "Chai Prakan                      1\n",
              "Mueang Nakhon Ratchasima         1\n",
              "Nakhon Luang                     1\n",
              "Phetchabun                       1\n",
              "Name: count, Length: 158, dtype: int64"
            ]
          },
          "metadata": {},
          "output_type": "display_data"
        }
      ],
      "source": [
        "jobsdb_data['location'].value_counts()"
      ]
    },
    {
      "cell_type": "code",
      "execution_count": null,
      "id": "81f85326",
      "metadata": {
        "id": "81f85326",
        "outputId": "de0d6c80-0053-41f7-80da-65b83a1e909b"
      },
      "outputs": [
        {
          "data": {
            "text/plain": [
              "158"
            ]
          },
          "metadata": {},
          "output_type": "display_data"
        }
      ],
      "source": [
        "jobsdb_data['location'].nunique()"
      ]
    },
    {
      "cell_type": "code",
      "execution_count": null,
      "id": "676b963c",
      "metadata": {
        "id": "676b963c",
        "outputId": "751e8db0-8505-46d1-ffa9-13da85c7cf97"
      },
      "outputs": [
        {
          "data": {
            "text/plain": [
              "['Bang Rak',\n",
              " 'Bangkok',\n",
              " 'Samut Prakan',\n",
              " 'Chatuchak',\n",
              " 'Phra Khanong',\n",
              " 'Phaya Thai',\n",
              " 'Bang Kho Laem',\n",
              " 'Ratchathewi',\n",
              " 'Pathum Wan',\n",
              " 'Lak Si',\n",
              " 'Yan Nawa',\n",
              " 'Bang Na',\n",
              " 'Rayong',\n",
              " 'Mueang Samut Prakan',\n",
              " 'Khlong Toei',\n",
              " 'Mueang Nonthaburi',\n",
              " 'Nonthaburi',\n",
              " 'Bang Kapi',\n",
              " 'Lat Phrao',\n",
              " 'Sathon',\n",
              " 'Huai Khwang',\n",
              " 'Bangkok Metropolitan Region',\n",
              " 'Chon Buri',\n",
              " 'Din Daeng',\n",
              " 'Vadhana',\n",
              " 'Thung Khru',\n",
              " 'Bang Yai',\n",
              " 'Bang Sao Thong',\n",
              " 'Don Mueang',\n",
              " 'Pathum Thani',\n",
              " 'Saphan Sung',\n",
              " 'Ayutthaya',\n",
              " 'Dusit',\n",
              " 'Wang Noi',\n",
              " 'Chachoengsao',\n",
              " 'Pak Kret',\n",
              " 'Bangkok Noi',\n",
              " 'Bang Phlat',\n",
              " 'Suan Luang',\n",
              " 'Sung Noen',\n",
              " 'Nakhon Ratchasima',\n",
              " 'Khon Kaen',\n",
              " 'Bueng Kum',\n",
              " 'Prawet',\n",
              " 'Sattahip',\n",
              " 'Phasi Charoen',\n",
              " 'Thanyaburi',\n",
              " 'Khlong San',\n",
              " 'Others',\n",
              " 'Surin',\n",
              " 'Si Maha Phot',\n",
              " 'Prachin Buri',\n",
              " 'Min Buri',\n",
              " 'Khlong Luang',\n",
              " 'Mueang Pathum Thani',\n",
              " 'Sam Phran',\n",
              " 'Nakhon Pathom',\n",
              " 'Phuket',\n",
              " 'Mueang Lamphun',\n",
              " 'Lamphun',\n",
              " 'Lat Krabang',\n",
              " 'Bang Phli',\n",
              " 'Ban Chang',\n",
              " 'Si Racha',\n",
              " 'Pluak Daeng',\n",
              " 'Samut Songkhram',\n",
              " 'Samut Sakhon',\n",
              " 'Bang Khen',\n",
              " 'Saraburi',\n",
              " 'Mueang Samut Sakhon',\n",
              " 'Mueang Chonburi',\n",
              " 'Bang Bo',\n",
              " 'Pak Chong',\n",
              " 'Wang Thonglang',\n",
              " 'Samphanthawong',\n",
              " 'Nakhon Chai Si',\n",
              " 'Central > Others',\n",
              " 'Sikhio',\n",
              " 'Roi Et',\n",
              " 'Bang Bua Thong',\n",
              " 'Phunphin',\n",
              " 'Surat Thani',\n",
              " 'Mueang Khon Kaen',\n",
              " 'Bang Khun Thian',\n",
              " 'Northeastern Region',\n",
              " 'Thon Buri',\n",
              " 'Ratchaburi',\n",
              " 'Hat Yai',\n",
              " 'Songkhla',\n",
              " 'Chiang Mai',\n",
              " 'Chaiyaphum',\n",
              " 'Khlong Sam Wa',\n",
              " 'Phra Samut Chedi',\n",
              " 'Mueang Rayong',\n",
              " 'Northeastern > Others',\n",
              " 'Khan Na Yao',\n",
              " 'Taling Chan',\n",
              " 'Phra Nakhon',\n",
              " 'Lam Luk Ka',\n",
              " 'Nakhon Sawan',\n",
              " 'Mueang Songkhla',\n",
              " 'Rat Burana',\n",
              " 'Phra Nakhon Si Ayutthaya',\n",
              " 'Bang Sue',\n",
              " 'Sichon',\n",
              " 'Nakhon Si Thammarat',\n",
              " 'Mueang Ang Thong',\n",
              " 'Ang Thong',\n",
              " 'Nikhom Phatthana',\n",
              " 'Nong Khaem',\n",
              " 'Bang Bon',\n",
              " 'Ubon Ratchathani',\n",
              " 'Nong Khae',\n",
              " 'Pom Prap Sattru Phai',\n",
              " 'Mueang Phuket',\n",
              " 'Southern Region',\n",
              " 'Wang Muang',\n",
              " 'Eastern Region',\n",
              " 'Kanchanaburi',\n",
              " 'Udon Thani',\n",
              " 'Suphan Buri',\n",
              " 'Central Region',\n",
              " 'Klaeng',\n",
              " 'Mueang Nakhon Si Thammarat',\n",
              " 'Phan Thong',\n",
              " 'Mueang Chiang Mai',\n",
              " 'Ko Samui',\n",
              " 'Chai Prakan',\n",
              " 'Mueang Nakhon Ratchasima',\n",
              " 'Nakhon Luang',\n",
              " 'Lat Lum Kaeo',\n",
              " 'Bang Kruai',\n",
              " 'Thawi Watthana',\n",
              " 'Ban Khai',\n",
              " 'Phra Pradaeng',\n",
              " 'Bang Pa-in',\n",
              " 'Thailand',\n",
              " 'San Kamphaeng',\n",
              " 'Bang Khae',\n",
              " 'Phang Nga',\n",
              " 'Chai Nat',\n",
              " 'Phitsanulok',\n",
              " 'Mueang Krabi',\n",
              " 'Krabi',\n",
              " 'Mae Rim',\n",
              " 'Doi Lo',\n",
              " 'Mae Sot',\n",
              " 'Tak',\n",
              " 'Chiang Rai',\n",
              " 'Bang Ban',\n",
              " 'Chana',\n",
              " 'Uthai Thani',\n",
              " 'Sukhothai',\n",
              " 'Non Thai',\n",
              " 'Kamalasai',\n",
              " 'Kalasin',\n",
              " 'Bueng Sam Phan',\n",
              " 'Phetchabun']"
            ]
          },
          "metadata": {},
          "output_type": "display_data"
        }
      ],
      "source": [
        "jobsdb_data['location'].unique().tolist()"
      ]
    },
    {
      "cell_type": "markdown",
      "id": "81c82d16",
      "metadata": {
        "id": "81c82d16"
      },
      "source": [
        "## Jobtopgun"
      ]
    },
    {
      "cell_type": "code",
      "execution_count": 3,
      "id": "27be6372",
      "metadata": {},
      "outputs": [],
      "source": [
        "jobtopgun_data_1st = 'https://www.jobtopgun.com/en/jobs?keywords=data'\n",
        "jobtopgun_data_morepages = '&page=2'\n",
        "jobtopgun_data_secondp = jobtopgun_data_1st + jobtopgun_data_morepages"
      ]
    },
    {
      "cell_type": "code",
      "execution_count": 3,
      "id": "86445d43",
      "metadata": {},
      "outputs": [
        {
          "name": "stdout",
          "output_type": "stream",
          "text": [
            "Navigating to jobtopgun 'data' search page number: 1\n",
            "Scraped data for job [1]: {'job_title': 'A Data Protection Officer (DPO)', 'company_name': 'Sri Trang Agro-Industry Public Co., Ltd.', 'industry': 'Today', 'job_url': 'https://www.jobtopgun.com/en/job/4084/505', 'posted_time': 'Today', 'experience': '1 - 3 Year', 'salary': '1 - 3 Year', 'education': \"Master's Degree\", 'location': 'Negotiable', 'responsibility': \"1. Ensure Compliance: Monitor and ensure the organization's compliance with data protection laws, regulations, and policies. 2. Advisory Role: Act as an advisor to the organization and its employees on matters related to data protection and privacy. 3. Risk Assessment: Conduct risk assessments to identify and evaluate data protection risks associated with the processing of personal data. 4. Policy Development: Develop and implement data protection policies, procedures, and guidelines to ensure adherence to legal requirements and best practices. 5. Training and Awareness: Provide training to staff on data protection laws, policies, and procedures to raise awareness and ensure compliance at all levels. 6. Incident Response: Develop and oversee procedures for responding to data breaches or incidents involving the unauthorized access or disclosure of personal data. 7. Monitoring and Auditing: Regularly monitor data processing activities and conduct audits to ensure compliance and identify areas for improvement. 8. Communication with Authorities: Serve as the point of contact for data protection authorities and cooperate with them as required. 9. Data Subject Rights: Manage and facilitate data subject rights requests, ensuring timely responses and adherence to individual privacy rights. 10. Vendor Management: Assess and monitor the data protection practices of third-party vendors and service providers to ensure compliance with data protection requirements.\", 'requirements': \"Requirements\\nBachelor's or Master's degree in law, information technology, or a related field.\\nIn-depth knowledge of data protection laws and regulations, especially Personal Data Protection Act.\\nProfessional certifications in data protection (e.g., CIPP/E, CEPAS DPO) (if any)\\nStrong communication and interpersonal skills.\\nAnalytical mindset with the ability to assess risks and propose solutions.\\nExperience in privacy impact assessments and managing data protection incidents.\\nKnowledge of IT security and data management practices (if any)\\nAbility to work independently and collaboratively with various departments.\", 'welfare_and_benefits': \"Welfare and Benefits\\nMedical insurance\\nProvident Fund\\nStaff training and development\\nAccommodation allowance (in other provinces)\\nFuel/transportation fees\\nPer diem\\nVehicle depreciation allowance\\nTelephone bill allowance\\nค่าใช้จ่ายในการเดินทาง\\n5-day work week\\nSocial security\\nHealth insurance\\nAccident Insurance\\nประกันอุบัติเหตุ\\nสวัสดิการบ้านพัก (ประจำโรงงาน) กลุ่มงาน ยางธรรมชาติ (STA)\\nEmployee's uniform\\nFuneral payment support\\nAnnual trip or party\\nAnnual bonus\"}\n",
            "Scraped data for job [2]: {'job_title': 'Data Governance and Data Analytic Specialist', 'company_name': 'Isuzu Motors (Thailand) Co.,Ltd.', 'industry': 'Today', 'job_url': 'https://www.jobtopgun.com/en/job/1309/274', 'posted_time': 'Today', 'experience': '10 - 20 Year', 'salary': '10 - 20 Year', 'education': \"Bachelor's Degree or Higher\", 'location': 'Negotiable', 'responsibility': 'Key Responsibilities\\n• Management and promote the task of Data Analytic & Business Intelligent (BI) in business department\\n• Create the policy of Data Utilization and promote Digital transformation\\n• Project manager in work scope.\\n• Build Digital team, Coaching and transfer knowledge\\n• Track and evaluate the effectiveness of data utilization and digital tools management.\\n• Promote Data governance and big data management', 'requirements': 'Requirements\\nProfile & Qualifications Required\\n• Age preferably 40 and up\\n• Bachelor’s degree in Data science, Data engineer, Com science, Information management, Information technology or Business administration in Data field\\n• Good in English communication (Have TOEIC score more than 550 up will be advantage)\\n• Special knowledge required are RPG, Advance excel, Power BI, Power query, Python, to perform in-depth analysis data, identifying trends, Patterns, and insights\\n• Have skill Data Management Tools, Data Governance Framework or Data quality management and Continuous learning will be advantage\\n• Have experience in Business data analysis', 'welfare_and_benefits': \"Welfare and Benefits\\nAnnual leave maximum 14 days\\nAnnual trip allowance\\nBonus (variable bonus - pay twice / year)\\nCompany bus service (around Chachoengsao area)\\nCompany uniform (3 sets / year)\\nEmployee’s children education allowance\\nFree shuttle bus\\nGroup Insurance\\nJapanese and English education allowance\\nLife insurance\\nMedical treatment allowance For employee For spouse and children\\nMonday – Friday and some Saturday\\nRegular working time: 07.30 – 16.30\\nTotal working day: 250 days / year\\nProvident Fund\\nStaff training and development\\nOvertime\\n5-day work week\\nSocial security\\nEmployee's uniform\\nAnnual trip or party\\nAnnual bonus\"}\n",
            "Scraped data for job [3]: {'job_title': 'Data analysis officer', 'company_name': 'Isuzu Motors (Thailand) Co.,Ltd.', 'industry': 'Today', 'job_url': 'https://www.jobtopgun.com/en/job/1309/273', 'posted_time': 'Today', 'experience': '0 - 3 Year', 'salary': '0 - 3 Year', 'education': \"Bachelor's Degree\", 'location': 'Negotiable', 'responsibility': 'Key Responsibilities\\n• Data analysis\\n- Analyze data from various sources to identify trends, patterns and insights\\n- Develop and implement data models and algorithms to support business decisions\\n• System analysis\\n- Evaluate existing systems and process to identify area for improvement\\n• Testing and Validation\\n- Test and validate data models, System enhancements, and new features to ensure accuracy and reliability\\n- Troubleshoot and resolve issues related to data and system functionality', 'requirements': 'Requirements\\nProfile & Qualifications Required\\n• Age preferably 22 - 25 years old.\\n• Bachelor’s degree in Data science, Data engineer, Com science, Information management, Information technology or Business administration in Data field\\n• Good in English communication (Have TOEIC score more than 400 up will be advantage)\\n• Special knowledge required are RPG, Advance excel, Power BI, Power query, Python, to perform in', 'welfare_and_benefits': \"Welfare and Benefits\\nAnnual leave maximum 14 days\\nAnnual trip allowance\\nBonus (variable bonus - pay twice / year)\\nCompany bus service (around Chachoengsao area)\\nCompany uniform (3 sets / year)\\nEmployee’s children education allowance\\nFree shuttle bus\\nGroup Insurance\\nJapanese and English education allowance\\nLife insurance\\nMedical treatment allowance For employee For spouse and children\\nMonday – Friday and some Saturday\\nRegular working time: 07.30 – 16.30\\nTotal working day: 250 days / year\\nProvident Fund\\nStaff training and development\\nOvertime\\n5-day work week\\nSocial security\\nEmployee's uniform\\nAnnual trip or party\\nAnnual bonus\"}\n",
            "Scraped data for job [4]: {'job_title': 'เจ้าหน้าที่ Data Support / Data Mining', 'company_name': 'Advice IT Infinite PCL', 'industry': 'Today', 'job_url': 'https://www.jobtopgun.com/en/job/20196/92', 'posted_time': 'Today', 'experience': '1 Year', 'salary': '1 Year', 'education': \"Bachelor's Degree\", 'location': '18,000 - 20,000 baht/month + Commission', 'responsibility': '- Maintenance ดูแลฐานข้อมูล\\n- Validate ตรวจสอบความถูกต้อง\\n- ตรวจและแก้ไขตาม Requirement Job\\n- Monitor ดูแลระบบ\\n- ทำข้อมูลสรุปรายงาน\\n- Backup สำรองข้อมูล\\n- จัดการทรัพยากร Database', 'requirements': 'Requirements\\n- ไม่จำกัดเพศ อายุ 22-30 ปี\\n- วุฒิการศึกษาปริญญาตรี สาขาวิศวกรรม/วิทยาศาสตร์คอมพิวเตอร์, เทคโนโลยีสารสนเทศ และสาขาอื่นๆที่เกี่ยวข้อง\\n- สามารถใช้โปรแกรม Microsoft Office ได้ดี\\n- มีความรู้เกี่ยวกับระบบฐานข้อมูลเช่น Mysql , SQL Server , Postgre หรืออื่น ๆ\\n- มีความรู้เกี่ยวกับ SQL Language', 'welfare_and_benefits': \"Welfare and Benefits\\nProvident Fund\\nStaff training and development\\nFuel/transportation fees\\nMarriage gift\\nPer diem\\nSocial security\\nHealth insurance\\nEmployee's uniform\\nFuneral payment support\\nAttendance bonus or other special compensation\\nPerformance/results-based bonus\\nAnnual bonus\"}\n",
            "Scraped data for job [5]: {'job_title': 'Data Engineer', 'company_name': 'Advice IT Infinite PCL', 'industry': 'Today', 'job_url': 'https://www.jobtopgun.com/en/job/20196/94', 'posted_time': 'Today', 'experience': '1 - 3 Year', 'salary': '1 - 3 Year', 'education': \"Bachelor's Degree\", 'location': '18,000 - 20,000 baht/month + Commission', 'responsibility': '- ออกแบบ สร้าง ดูแลระบบการจัดเก็บข้อมูล การประมวลผลข้อมูล และการวิเคราะห์ข้อมูล\\n- ควบคุมคุณภาพของข้อมูล การเชื่อมต่อระบบและพื้นที่การจัดเก็บข้อมูล\\n- ทำ ETL (Extract, Transform, Load) \\n- พัฒนาและบำรุงระบบเครื่องมือที่เกี่ยวข้องกับการจัดการข้อมูลอย่างต่อเนื่อง ', 'requirements': 'Requirements\\n- ไม่จำกัดเพศ อายุ 23 - 30 ปี\\n- วุฒิการศึกษาปริญญาตรี สาขาวิศวกรรม/วิทยาศาสตร์คอมพิวเตอร์, เทคโนโลยีสารสนเทศ และสาขาอื่นๆที่เกี่ยวข้อง\\n- สามารถใช้โปรแกรม Microsoft Office ได้ดี\\n- มีความรู้เกี่ยวกับระบบฐานข้อมูลเช่น Mysql , SQL Server , Postgre หรืออื่น ๆ\\n- มีความรู้เกี่ยวกับ SQL Language', 'welfare_and_benefits': \"Welfare and Benefits\\nProvident Fund\\nStaff training and development\\nFuel/transportation fees\\nMarriage gift\\nPer diem\\nSocial security\\nHealth insurance\\nEmployee's uniform\\nFuneral payment support\\nAttendance bonus or other special compensation\\nPerformance/results-based bonus\\nAnnual bonus\"}\n",
            "Failed to scrape data for job [6]: Message: no such element: Unable to locate element: {\"method\":\"xpath\",\"selector\":\"//*[@id=\"job-details\"]/div[2]/section[4]\"}\n",
            "  (Session info: chrome=128.0.6613.115); For documentation on this error, please visit: https://www.selenium.dev/documentation/webdriver/troubleshooting/errors#no-such-element-exception\n",
            "Stacktrace:\n",
            "\tGetHandleVerifier [0x00007FF78B20B5D2+29090]\n",
            "\t(No symbol) [0x00007FF78B17E689]\n",
            "\t(No symbol) [0x00007FF78B03B1CA]\n",
            "\t(No symbol) [0x00007FF78B08EFD7]\n",
            "\t(No symbol) [0x00007FF78B08F22C]\n",
            "\t(No symbol) [0x00007FF78B0D97F7]\n",
            "\t(No symbol) [0x00007FF78B0B672F]\n",
            "\t(No symbol) [0x00007FF78B0D65D9]\n",
            "\t(No symbol) [0x00007FF78B0B6493]\n",
            "\t(No symbol) [0x00007FF78B0809B1]\n",
            "\t(No symbol) [0x00007FF78B081B11]\n",
            "\tGetHandleVerifier [0x00007FF78B528C5D+3295277]\n",
            "\tGetHandleVerifier [0x00007FF78B574843+3605523]\n",
            "\tGetHandleVerifier [0x00007FF78B56A707+3564247]\n",
            "\tGetHandleVerifier [0x00007FF78B2C6EB6+797318]\n",
            "\t(No symbol) [0x00007FF78B18980F]\n",
            "\t(No symbol) [0x00007FF78B1853F4]\n",
            "\t(No symbol) [0x00007FF78B185580]\n",
            "\t(No symbol) [0x00007FF78B174A1F]\n",
            "\tBaseThreadInitThunk [0x00007FF8D14E7374+20]\n",
            "\tRtlUserThreadStart [0x00007FF8D165CC91+33]\n",
            "\n",
            "Scraped data for job [7]: {'job_title': 'Data Analyst', 'company_name': 'Ngern Tid Lor Public Company Limited', 'industry': 'Financial/Banking/Securities, I.T. - Software/Telecommunication, Insurance', 'job_url': 'https://www.jobtopgun.com/en/job/21417/587', 'posted_time': 'Financial/Banking/Securities, I.T. - Software/Telecommunication, Insurance', 'experience': '2 - 5 Year', 'salary': '2 - 5 Year', 'education': \"Bachelor's Degree or Higher\", 'location': 'Negotiable', 'responsibility': 'Develop and implement databases, data analytics and strategies that optimize statistical efficiency and quality.\\nInterpret data , analyze results using statistical techniques.\\nProvide solid segmentation analysis to facilitate business decision making and portfolio management', 'requirements': 'Requirements\\nStrong in analytical and interpersonal.\\nUsing database tools or statistic tools for conduct analysis.\\nExperience in SQL , Data Analyst, Power BI, Tableau, Excel, Python or Mysql Database will be advantage.', 'welfare_and_benefits': \"Welfare and Benefits\\nProvident Fund\\nStaff training and development\\nScholarship/ education allowance\\nMarriage gift\\n5-day work week\\nทุนการศึกษา\\nประกันชีวิต\\nSocial security\\nHealth insurance\\nAccident Insurance\\nOrdination leave\\nสิทธิการเบิกค่าทันตกรรม\\nEmployee's uniform\\nAnnual trip or party\\nPerformance/results-based bonus\\nAnnual bonus\"}\n"
          ]
        },
        {
          "ename": "KeyboardInterrupt",
          "evalue": "",
          "output_type": "error",
          "traceback": [
            "\u001b[1;31m---------------------------------------------------------------------------\u001b[0m",
            "\u001b[1;31mKeyboardInterrupt\u001b[0m                         Traceback (most recent call last)",
            "Cell \u001b[1;32mIn[3], line 36\u001b[0m\n\u001b[0;32m     33\u001b[0m \u001b[38;5;66;03m# Scrape data from the job detail page\u001b[39;00m\n\u001b[0;32m     34\u001b[0m \u001b[38;5;28;01mtry\u001b[39;00m:\n\u001b[0;32m     35\u001b[0m     \u001b[38;5;66;03m# Details to scrape data\u001b[39;00m\n\u001b[1;32m---> 36\u001b[0m     job_title \u001b[38;5;241m=\u001b[39m \u001b[43mdriver_jobtopgun\u001b[49m\u001b[38;5;241;43m.\u001b[39;49m\u001b[43mfind_element\u001b[49m\u001b[43m(\u001b[49m\u001b[43mBy\u001b[49m\u001b[38;5;241;43m.\u001b[39;49m\u001b[43mXPATH\u001b[49m\u001b[43m,\u001b[49m\u001b[43m \u001b[49m\u001b[38;5;124;43m'\u001b[39;49m\u001b[38;5;124;43m//h1[@class=\u001b[39;49m\u001b[38;5;124;43m\"\u001b[39;49m\u001b[38;5;124;43mfont-medium text-sub-primary text-lg\u001b[39;49m\u001b[38;5;124;43m\"\u001b[39;49m\u001b[38;5;124;43m]\u001b[39;49m\u001b[38;5;124;43m'\u001b[39;49m\u001b[43m)\u001b[49m\u001b[38;5;241m.\u001b[39mtext\n\u001b[0;32m     37\u001b[0m     company_name \u001b[38;5;241m=\u001b[39m driver_jobtopgun\u001b[38;5;241m.\u001b[39mfind_element(By\u001b[38;5;241m.\u001b[39mXPATH, \u001b[38;5;124m'\u001b[39m\u001b[38;5;124m//span[@class=\u001b[39m\u001b[38;5;124m\"\u001b[39m\u001b[38;5;124mflex-1 font-medium text-lg\u001b[39m\u001b[38;5;124m\"\u001b[39m\u001b[38;5;124m]\u001b[39m\u001b[38;5;124m'\u001b[39m)\u001b[38;5;241m.\u001b[39mtext\n\u001b[0;32m     38\u001b[0m     industry \u001b[38;5;241m=\u001b[39m driver_jobtopgun\u001b[38;5;241m.\u001b[39mfind_element(By\u001b[38;5;241m.\u001b[39mXPATH, \u001b[38;5;124m'\u001b[39m\u001b[38;5;124m//*[@id=\u001b[39m\u001b[38;5;124m\"\u001b[39m\u001b[38;5;124mjob-details\u001b[39m\u001b[38;5;124m\"\u001b[39m\u001b[38;5;124m]/div[1]/div/div[1]/div[1]/section/div[1]/span\u001b[39m\u001b[38;5;124m'\u001b[39m)\u001b[38;5;241m.\u001b[39mtext\n",
            "File \u001b[1;32m~\\AppData\\Local\\Packages\\PythonSoftwareFoundation.Python.3.12_qbz5n2kfra8p0\\LocalCache\\local-packages\\Python312\\site-packages\\selenium\\webdriver\\remote\\webdriver.py:748\u001b[0m, in \u001b[0;36mWebDriver.find_element\u001b[1;34m(self, by, value)\u001b[0m\n\u001b[0;32m    745\u001b[0m     by \u001b[38;5;241m=\u001b[39m By\u001b[38;5;241m.\u001b[39mCSS_SELECTOR\n\u001b[0;32m    746\u001b[0m     value \u001b[38;5;241m=\u001b[39m \u001b[38;5;124mf\u001b[39m\u001b[38;5;124m'\u001b[39m\u001b[38;5;124m[name=\u001b[39m\u001b[38;5;124m\"\u001b[39m\u001b[38;5;132;01m{\u001b[39;00mvalue\u001b[38;5;132;01m}\u001b[39;00m\u001b[38;5;124m\"\u001b[39m\u001b[38;5;124m]\u001b[39m\u001b[38;5;124m'\u001b[39m\n\u001b[1;32m--> 748\u001b[0m \u001b[38;5;28;01mreturn\u001b[39;00m \u001b[38;5;28;43mself\u001b[39;49m\u001b[38;5;241;43m.\u001b[39;49m\u001b[43mexecute\u001b[49m\u001b[43m(\u001b[49m\u001b[43mCommand\u001b[49m\u001b[38;5;241;43m.\u001b[39;49m\u001b[43mFIND_ELEMENT\u001b[49m\u001b[43m,\u001b[49m\u001b[43m \u001b[49m\u001b[43m{\u001b[49m\u001b[38;5;124;43m\"\u001b[39;49m\u001b[38;5;124;43musing\u001b[39;49m\u001b[38;5;124;43m\"\u001b[39;49m\u001b[43m:\u001b[49m\u001b[43m \u001b[49m\u001b[43mby\u001b[49m\u001b[43m,\u001b[49m\u001b[43m \u001b[49m\u001b[38;5;124;43m\"\u001b[39;49m\u001b[38;5;124;43mvalue\u001b[39;49m\u001b[38;5;124;43m\"\u001b[39;49m\u001b[43m:\u001b[49m\u001b[43m \u001b[49m\u001b[43mvalue\u001b[49m\u001b[43m}\u001b[49m\u001b[43m)\u001b[49m[\u001b[38;5;124m\"\u001b[39m\u001b[38;5;124mvalue\u001b[39m\u001b[38;5;124m\"\u001b[39m]\n",
            "File \u001b[1;32m~\\AppData\\Local\\Packages\\PythonSoftwareFoundation.Python.3.12_qbz5n2kfra8p0\\LocalCache\\local-packages\\Python312\\site-packages\\selenium\\webdriver\\remote\\webdriver.py:352\u001b[0m, in \u001b[0;36mWebDriver.execute\u001b[1;34m(self, driver_command, params)\u001b[0m\n\u001b[0;32m    349\u001b[0m     \u001b[38;5;28;01melif\u001b[39;00m \u001b[38;5;124m\"\u001b[39m\u001b[38;5;124msessionId\u001b[39m\u001b[38;5;124m\"\u001b[39m \u001b[38;5;129;01mnot\u001b[39;00m \u001b[38;5;129;01min\u001b[39;00m params:\n\u001b[0;32m    350\u001b[0m         params[\u001b[38;5;124m\"\u001b[39m\u001b[38;5;124msessionId\u001b[39m\u001b[38;5;124m\"\u001b[39m] \u001b[38;5;241m=\u001b[39m \u001b[38;5;28mself\u001b[39m\u001b[38;5;241m.\u001b[39msession_id\n\u001b[1;32m--> 352\u001b[0m response \u001b[38;5;241m=\u001b[39m \u001b[38;5;28;43mself\u001b[39;49m\u001b[38;5;241;43m.\u001b[39;49m\u001b[43mcommand_executor\u001b[49m\u001b[38;5;241;43m.\u001b[39;49m\u001b[43mexecute\u001b[49m\u001b[43m(\u001b[49m\u001b[43mdriver_command\u001b[49m\u001b[43m,\u001b[49m\u001b[43m \u001b[49m\u001b[43mparams\u001b[49m\u001b[43m)\u001b[49m\n\u001b[0;32m    353\u001b[0m \u001b[38;5;28;01mif\u001b[39;00m response:\n\u001b[0;32m    354\u001b[0m     \u001b[38;5;28mself\u001b[39m\u001b[38;5;241m.\u001b[39merror_handler\u001b[38;5;241m.\u001b[39mcheck_response(response)\n",
            "File \u001b[1;32m~\\AppData\\Local\\Packages\\PythonSoftwareFoundation.Python.3.12_qbz5n2kfra8p0\\LocalCache\\local-packages\\Python312\\site-packages\\selenium\\webdriver\\remote\\remote_connection.py:306\u001b[0m, in \u001b[0;36mRemoteConnection.execute\u001b[1;34m(self, command, params)\u001b[0m\n\u001b[0;32m    304\u001b[0m trimmed \u001b[38;5;241m=\u001b[39m \u001b[38;5;28mself\u001b[39m\u001b[38;5;241m.\u001b[39m_trim_large_entries(params)\n\u001b[0;32m    305\u001b[0m LOGGER\u001b[38;5;241m.\u001b[39mdebug(\u001b[38;5;124m\"\u001b[39m\u001b[38;5;132;01m%s\u001b[39;00m\u001b[38;5;124m \u001b[39m\u001b[38;5;132;01m%s\u001b[39;00m\u001b[38;5;124m \u001b[39m\u001b[38;5;132;01m%s\u001b[39;00m\u001b[38;5;124m\"\u001b[39m, command_info[\u001b[38;5;241m0\u001b[39m], url, \u001b[38;5;28mstr\u001b[39m(trimmed))\n\u001b[1;32m--> 306\u001b[0m \u001b[38;5;28;01mreturn\u001b[39;00m \u001b[38;5;28;43mself\u001b[39;49m\u001b[38;5;241;43m.\u001b[39;49m\u001b[43m_request\u001b[49m\u001b[43m(\u001b[49m\u001b[43mcommand_info\u001b[49m\u001b[43m[\u001b[49m\u001b[38;5;241;43m0\u001b[39;49m\u001b[43m]\u001b[49m\u001b[43m,\u001b[49m\u001b[43m \u001b[49m\u001b[43murl\u001b[49m\u001b[43m,\u001b[49m\u001b[43m \u001b[49m\u001b[43mbody\u001b[49m\u001b[38;5;241;43m=\u001b[39;49m\u001b[43mdata\u001b[49m\u001b[43m)\u001b[49m\n",
            "File \u001b[1;32m~\\AppData\\Local\\Packages\\PythonSoftwareFoundation.Python.3.12_qbz5n2kfra8p0\\LocalCache\\local-packages\\Python312\\site-packages\\selenium\\webdriver\\remote\\remote_connection.py:326\u001b[0m, in \u001b[0;36mRemoteConnection._request\u001b[1;34m(self, method, url, body)\u001b[0m\n\u001b[0;32m    323\u001b[0m     body \u001b[38;5;241m=\u001b[39m \u001b[38;5;28;01mNone\u001b[39;00m\n\u001b[0;32m    325\u001b[0m \u001b[38;5;28;01mif\u001b[39;00m \u001b[38;5;28mself\u001b[39m\u001b[38;5;241m.\u001b[39mkeep_alive:\n\u001b[1;32m--> 326\u001b[0m     response \u001b[38;5;241m=\u001b[39m \u001b[38;5;28;43mself\u001b[39;49m\u001b[38;5;241;43m.\u001b[39;49m\u001b[43m_conn\u001b[49m\u001b[38;5;241;43m.\u001b[39;49m\u001b[43mrequest\u001b[49m\u001b[43m(\u001b[49m\u001b[43mmethod\u001b[49m\u001b[43m,\u001b[49m\u001b[43m \u001b[49m\u001b[43murl\u001b[49m\u001b[43m,\u001b[49m\u001b[43m \u001b[49m\u001b[43mbody\u001b[49m\u001b[38;5;241;43m=\u001b[39;49m\u001b[43mbody\u001b[49m\u001b[43m,\u001b[49m\u001b[43m \u001b[49m\u001b[43mheaders\u001b[49m\u001b[38;5;241;43m=\u001b[39;49m\u001b[43mheaders\u001b[49m\u001b[43m)\u001b[49m\n\u001b[0;32m    327\u001b[0m     statuscode \u001b[38;5;241m=\u001b[39m response\u001b[38;5;241m.\u001b[39mstatus\n\u001b[0;32m    328\u001b[0m \u001b[38;5;28;01melse\u001b[39;00m:\n",
            "File \u001b[1;32m~\\AppData\\Local\\Packages\\PythonSoftwareFoundation.Python.3.12_qbz5n2kfra8p0\\LocalCache\\local-packages\\Python312\\site-packages\\urllib3\\_request_methods.py:144\u001b[0m, in \u001b[0;36mRequestMethods.request\u001b[1;34m(self, method, url, body, fields, headers, json, **urlopen_kw)\u001b[0m\n\u001b[0;32m    136\u001b[0m     \u001b[38;5;28;01mreturn\u001b[39;00m \u001b[38;5;28mself\u001b[39m\u001b[38;5;241m.\u001b[39mrequest_encode_url(\n\u001b[0;32m    137\u001b[0m         method,\n\u001b[0;32m    138\u001b[0m         url,\n\u001b[1;32m   (...)\u001b[0m\n\u001b[0;32m    141\u001b[0m         \u001b[38;5;241m*\u001b[39m\u001b[38;5;241m*\u001b[39murlopen_kw,\n\u001b[0;32m    142\u001b[0m     )\n\u001b[0;32m    143\u001b[0m \u001b[38;5;28;01melse\u001b[39;00m:\n\u001b[1;32m--> 144\u001b[0m     \u001b[38;5;28;01mreturn\u001b[39;00m \u001b[38;5;28;43mself\u001b[39;49m\u001b[38;5;241;43m.\u001b[39;49m\u001b[43mrequest_encode_body\u001b[49m\u001b[43m(\u001b[49m\n\u001b[0;32m    145\u001b[0m \u001b[43m        \u001b[49m\u001b[43mmethod\u001b[49m\u001b[43m,\u001b[49m\u001b[43m \u001b[49m\u001b[43murl\u001b[49m\u001b[43m,\u001b[49m\u001b[43m \u001b[49m\u001b[43mfields\u001b[49m\u001b[38;5;241;43m=\u001b[39;49m\u001b[43mfields\u001b[49m\u001b[43m,\u001b[49m\u001b[43m \u001b[49m\u001b[43mheaders\u001b[49m\u001b[38;5;241;43m=\u001b[39;49m\u001b[43mheaders\u001b[49m\u001b[43m,\u001b[49m\u001b[43m \u001b[49m\u001b[38;5;241;43m*\u001b[39;49m\u001b[38;5;241;43m*\u001b[39;49m\u001b[43murlopen_kw\u001b[49m\n\u001b[0;32m    146\u001b[0m \u001b[43m    \u001b[49m\u001b[43m)\u001b[49m\n",
            "File \u001b[1;32m~\\AppData\\Local\\Packages\\PythonSoftwareFoundation.Python.3.12_qbz5n2kfra8p0\\LocalCache\\local-packages\\Python312\\site-packages\\urllib3\\_request_methods.py:279\u001b[0m, in \u001b[0;36mRequestMethods.request_encode_body\u001b[1;34m(self, method, url, fields, headers, encode_multipart, multipart_boundary, **urlopen_kw)\u001b[0m\n\u001b[0;32m    275\u001b[0m     extra_kw[\u001b[38;5;124m\"\u001b[39m\u001b[38;5;124mheaders\u001b[39m\u001b[38;5;124m\"\u001b[39m]\u001b[38;5;241m.\u001b[39msetdefault(\u001b[38;5;124m\"\u001b[39m\u001b[38;5;124mContent-Type\u001b[39m\u001b[38;5;124m\"\u001b[39m, content_type)\n\u001b[0;32m    277\u001b[0m extra_kw\u001b[38;5;241m.\u001b[39mupdate(urlopen_kw)\n\u001b[1;32m--> 279\u001b[0m \u001b[38;5;28;01mreturn\u001b[39;00m \u001b[38;5;28;43mself\u001b[39;49m\u001b[38;5;241;43m.\u001b[39;49m\u001b[43murlopen\u001b[49m\u001b[43m(\u001b[49m\u001b[43mmethod\u001b[49m\u001b[43m,\u001b[49m\u001b[43m \u001b[49m\u001b[43murl\u001b[49m\u001b[43m,\u001b[49m\u001b[43m \u001b[49m\u001b[38;5;241;43m*\u001b[39;49m\u001b[38;5;241;43m*\u001b[39;49m\u001b[43mextra_kw\u001b[49m\u001b[43m)\u001b[49m\n",
            "File \u001b[1;32m~\\AppData\\Local\\Packages\\PythonSoftwareFoundation.Python.3.12_qbz5n2kfra8p0\\LocalCache\\local-packages\\Python312\\site-packages\\urllib3\\poolmanager.py:443\u001b[0m, in \u001b[0;36mPoolManager.urlopen\u001b[1;34m(self, method, url, redirect, **kw)\u001b[0m\n\u001b[0;32m    441\u001b[0m     response \u001b[38;5;241m=\u001b[39m conn\u001b[38;5;241m.\u001b[39murlopen(method, url, \u001b[38;5;241m*\u001b[39m\u001b[38;5;241m*\u001b[39mkw)\n\u001b[0;32m    442\u001b[0m \u001b[38;5;28;01melse\u001b[39;00m:\n\u001b[1;32m--> 443\u001b[0m     response \u001b[38;5;241m=\u001b[39m \u001b[43mconn\u001b[49m\u001b[38;5;241;43m.\u001b[39;49m\u001b[43murlopen\u001b[49m\u001b[43m(\u001b[49m\u001b[43mmethod\u001b[49m\u001b[43m,\u001b[49m\u001b[43m \u001b[49m\u001b[43mu\u001b[49m\u001b[38;5;241;43m.\u001b[39;49m\u001b[43mrequest_uri\u001b[49m\u001b[43m,\u001b[49m\u001b[43m \u001b[49m\u001b[38;5;241;43m*\u001b[39;49m\u001b[38;5;241;43m*\u001b[39;49m\u001b[43mkw\u001b[49m\u001b[43m)\u001b[49m\n\u001b[0;32m    445\u001b[0m redirect_location \u001b[38;5;241m=\u001b[39m redirect \u001b[38;5;129;01mand\u001b[39;00m response\u001b[38;5;241m.\u001b[39mget_redirect_location()\n\u001b[0;32m    446\u001b[0m \u001b[38;5;28;01mif\u001b[39;00m \u001b[38;5;129;01mnot\u001b[39;00m redirect_location:\n",
            "File \u001b[1;32m~\\AppData\\Local\\Packages\\PythonSoftwareFoundation.Python.3.12_qbz5n2kfra8p0\\LocalCache\\local-packages\\Python312\\site-packages\\urllib3\\connectionpool.py:789\u001b[0m, in \u001b[0;36mHTTPConnectionPool.urlopen\u001b[1;34m(self, method, url, body, headers, retries, redirect, assert_same_host, timeout, pool_timeout, release_conn, chunked, body_pos, preload_content, decode_content, **response_kw)\u001b[0m\n\u001b[0;32m    786\u001b[0m response_conn \u001b[38;5;241m=\u001b[39m conn \u001b[38;5;28;01mif\u001b[39;00m \u001b[38;5;129;01mnot\u001b[39;00m release_conn \u001b[38;5;28;01melse\u001b[39;00m \u001b[38;5;28;01mNone\u001b[39;00m\n\u001b[0;32m    788\u001b[0m \u001b[38;5;66;03m# Make the request on the HTTPConnection object\u001b[39;00m\n\u001b[1;32m--> 789\u001b[0m response \u001b[38;5;241m=\u001b[39m \u001b[38;5;28;43mself\u001b[39;49m\u001b[38;5;241;43m.\u001b[39;49m\u001b[43m_make_request\u001b[49m\u001b[43m(\u001b[49m\n\u001b[0;32m    790\u001b[0m \u001b[43m    \u001b[49m\u001b[43mconn\u001b[49m\u001b[43m,\u001b[49m\n\u001b[0;32m    791\u001b[0m \u001b[43m    \u001b[49m\u001b[43mmethod\u001b[49m\u001b[43m,\u001b[49m\n\u001b[0;32m    792\u001b[0m \u001b[43m    \u001b[49m\u001b[43murl\u001b[49m\u001b[43m,\u001b[49m\n\u001b[0;32m    793\u001b[0m \u001b[43m    \u001b[49m\u001b[43mtimeout\u001b[49m\u001b[38;5;241;43m=\u001b[39;49m\u001b[43mtimeout_obj\u001b[49m\u001b[43m,\u001b[49m\n\u001b[0;32m    794\u001b[0m \u001b[43m    \u001b[49m\u001b[43mbody\u001b[49m\u001b[38;5;241;43m=\u001b[39;49m\u001b[43mbody\u001b[49m\u001b[43m,\u001b[49m\n\u001b[0;32m    795\u001b[0m \u001b[43m    \u001b[49m\u001b[43mheaders\u001b[49m\u001b[38;5;241;43m=\u001b[39;49m\u001b[43mheaders\u001b[49m\u001b[43m,\u001b[49m\n\u001b[0;32m    796\u001b[0m \u001b[43m    \u001b[49m\u001b[43mchunked\u001b[49m\u001b[38;5;241;43m=\u001b[39;49m\u001b[43mchunked\u001b[49m\u001b[43m,\u001b[49m\n\u001b[0;32m    797\u001b[0m \u001b[43m    \u001b[49m\u001b[43mretries\u001b[49m\u001b[38;5;241;43m=\u001b[39;49m\u001b[43mretries\u001b[49m\u001b[43m,\u001b[49m\n\u001b[0;32m    798\u001b[0m \u001b[43m    \u001b[49m\u001b[43mresponse_conn\u001b[49m\u001b[38;5;241;43m=\u001b[39;49m\u001b[43mresponse_conn\u001b[49m\u001b[43m,\u001b[49m\n\u001b[0;32m    799\u001b[0m \u001b[43m    \u001b[49m\u001b[43mpreload_content\u001b[49m\u001b[38;5;241;43m=\u001b[39;49m\u001b[43mpreload_content\u001b[49m\u001b[43m,\u001b[49m\n\u001b[0;32m    800\u001b[0m \u001b[43m    \u001b[49m\u001b[43mdecode_content\u001b[49m\u001b[38;5;241;43m=\u001b[39;49m\u001b[43mdecode_content\u001b[49m\u001b[43m,\u001b[49m\n\u001b[0;32m    801\u001b[0m \u001b[43m    \u001b[49m\u001b[38;5;241;43m*\u001b[39;49m\u001b[38;5;241;43m*\u001b[39;49m\u001b[43mresponse_kw\u001b[49m\u001b[43m,\u001b[49m\n\u001b[0;32m    802\u001b[0m \u001b[43m\u001b[49m\u001b[43m)\u001b[49m\n\u001b[0;32m    804\u001b[0m \u001b[38;5;66;03m# Everything went great!\u001b[39;00m\n\u001b[0;32m    805\u001b[0m clean_exit \u001b[38;5;241m=\u001b[39m \u001b[38;5;28;01mTrue\u001b[39;00m\n",
            "File \u001b[1;32m~\\AppData\\Local\\Packages\\PythonSoftwareFoundation.Python.3.12_qbz5n2kfra8p0\\LocalCache\\local-packages\\Python312\\site-packages\\urllib3\\connectionpool.py:536\u001b[0m, in \u001b[0;36mHTTPConnectionPool._make_request\u001b[1;34m(self, conn, method, url, body, headers, retries, timeout, chunked, response_conn, preload_content, decode_content, enforce_content_length)\u001b[0m\n\u001b[0;32m    534\u001b[0m \u001b[38;5;66;03m# Receive the response from the server\u001b[39;00m\n\u001b[0;32m    535\u001b[0m \u001b[38;5;28;01mtry\u001b[39;00m:\n\u001b[1;32m--> 536\u001b[0m     response \u001b[38;5;241m=\u001b[39m \u001b[43mconn\u001b[49m\u001b[38;5;241;43m.\u001b[39;49m\u001b[43mgetresponse\u001b[49m\u001b[43m(\u001b[49m\u001b[43m)\u001b[49m\n\u001b[0;32m    537\u001b[0m \u001b[38;5;28;01mexcept\u001b[39;00m (BaseSSLError, \u001b[38;5;167;01mOSError\u001b[39;00m) \u001b[38;5;28;01mas\u001b[39;00m e:\n\u001b[0;32m    538\u001b[0m     \u001b[38;5;28mself\u001b[39m\u001b[38;5;241m.\u001b[39m_raise_timeout(err\u001b[38;5;241m=\u001b[39me, url\u001b[38;5;241m=\u001b[39murl, timeout_value\u001b[38;5;241m=\u001b[39mread_timeout)\n",
            "File \u001b[1;32m~\\AppData\\Local\\Packages\\PythonSoftwareFoundation.Python.3.12_qbz5n2kfra8p0\\LocalCache\\local-packages\\Python312\\site-packages\\urllib3\\connection.py:464\u001b[0m, in \u001b[0;36mHTTPConnection.getresponse\u001b[1;34m(self)\u001b[0m\n\u001b[0;32m    461\u001b[0m \u001b[38;5;28;01mfrom\u001b[39;00m \u001b[38;5;21;01m.\u001b[39;00m\u001b[38;5;21;01mresponse\u001b[39;00m \u001b[38;5;28;01mimport\u001b[39;00m HTTPResponse\n\u001b[0;32m    463\u001b[0m \u001b[38;5;66;03m# Get the response from http.client.HTTPConnection\u001b[39;00m\n\u001b[1;32m--> 464\u001b[0m httplib_response \u001b[38;5;241m=\u001b[39m \u001b[38;5;28;43msuper\u001b[39;49m\u001b[43m(\u001b[49m\u001b[43m)\u001b[49m\u001b[38;5;241;43m.\u001b[39;49m\u001b[43mgetresponse\u001b[49m\u001b[43m(\u001b[49m\u001b[43m)\u001b[49m\n\u001b[0;32m    466\u001b[0m \u001b[38;5;28;01mtry\u001b[39;00m:\n\u001b[0;32m    467\u001b[0m     assert_header_parsing(httplib_response\u001b[38;5;241m.\u001b[39mmsg)\n",
            "File \u001b[1;32mC:\\Program Files\\WindowsApps\\PythonSoftwareFoundation.Python.3.12_3.12.1520.0_x64__qbz5n2kfra8p0\\Lib\\http\\client.py:1428\u001b[0m, in \u001b[0;36mHTTPConnection.getresponse\u001b[1;34m(self)\u001b[0m\n\u001b[0;32m   1426\u001b[0m \u001b[38;5;28;01mtry\u001b[39;00m:\n\u001b[0;32m   1427\u001b[0m     \u001b[38;5;28;01mtry\u001b[39;00m:\n\u001b[1;32m-> 1428\u001b[0m         \u001b[43mresponse\u001b[49m\u001b[38;5;241;43m.\u001b[39;49m\u001b[43mbegin\u001b[49m\u001b[43m(\u001b[49m\u001b[43m)\u001b[49m\n\u001b[0;32m   1429\u001b[0m     \u001b[38;5;28;01mexcept\u001b[39;00m \u001b[38;5;167;01mConnectionError\u001b[39;00m:\n\u001b[0;32m   1430\u001b[0m         \u001b[38;5;28mself\u001b[39m\u001b[38;5;241m.\u001b[39mclose()\n",
            "File \u001b[1;32mC:\\Program Files\\WindowsApps\\PythonSoftwareFoundation.Python.3.12_3.12.1520.0_x64__qbz5n2kfra8p0\\Lib\\http\\client.py:331\u001b[0m, in \u001b[0;36mHTTPResponse.begin\u001b[1;34m(self)\u001b[0m\n\u001b[0;32m    329\u001b[0m \u001b[38;5;66;03m# read until we get a non-100 response\u001b[39;00m\n\u001b[0;32m    330\u001b[0m \u001b[38;5;28;01mwhile\u001b[39;00m \u001b[38;5;28;01mTrue\u001b[39;00m:\n\u001b[1;32m--> 331\u001b[0m     version, status, reason \u001b[38;5;241m=\u001b[39m \u001b[38;5;28;43mself\u001b[39;49m\u001b[38;5;241;43m.\u001b[39;49m\u001b[43m_read_status\u001b[49m\u001b[43m(\u001b[49m\u001b[43m)\u001b[49m\n\u001b[0;32m    332\u001b[0m     \u001b[38;5;28;01mif\u001b[39;00m status \u001b[38;5;241m!=\u001b[39m CONTINUE:\n\u001b[0;32m    333\u001b[0m         \u001b[38;5;28;01mbreak\u001b[39;00m\n",
            "File \u001b[1;32mC:\\Program Files\\WindowsApps\\PythonSoftwareFoundation.Python.3.12_3.12.1520.0_x64__qbz5n2kfra8p0\\Lib\\http\\client.py:292\u001b[0m, in \u001b[0;36mHTTPResponse._read_status\u001b[1;34m(self)\u001b[0m\n\u001b[0;32m    291\u001b[0m \u001b[38;5;28;01mdef\u001b[39;00m \u001b[38;5;21m_read_status\u001b[39m(\u001b[38;5;28mself\u001b[39m):\n\u001b[1;32m--> 292\u001b[0m     line \u001b[38;5;241m=\u001b[39m \u001b[38;5;28mstr\u001b[39m(\u001b[38;5;28;43mself\u001b[39;49m\u001b[38;5;241;43m.\u001b[39;49m\u001b[43mfp\u001b[49m\u001b[38;5;241;43m.\u001b[39;49m\u001b[43mreadline\u001b[49m\u001b[43m(\u001b[49m\u001b[43m_MAXLINE\u001b[49m\u001b[43m \u001b[49m\u001b[38;5;241;43m+\u001b[39;49m\u001b[43m \u001b[49m\u001b[38;5;241;43m1\u001b[39;49m\u001b[43m)\u001b[49m, \u001b[38;5;124m\"\u001b[39m\u001b[38;5;124miso-8859-1\u001b[39m\u001b[38;5;124m\"\u001b[39m)\n\u001b[0;32m    293\u001b[0m     \u001b[38;5;28;01mif\u001b[39;00m \u001b[38;5;28mlen\u001b[39m(line) \u001b[38;5;241m>\u001b[39m _MAXLINE:\n\u001b[0;32m    294\u001b[0m         \u001b[38;5;28;01mraise\u001b[39;00m LineTooLong(\u001b[38;5;124m\"\u001b[39m\u001b[38;5;124mstatus line\u001b[39m\u001b[38;5;124m\"\u001b[39m)\n",
            "File \u001b[1;32mC:\\Program Files\\WindowsApps\\PythonSoftwareFoundation.Python.3.12_3.12.1520.0_x64__qbz5n2kfra8p0\\Lib\\socket.py:720\u001b[0m, in \u001b[0;36mSocketIO.readinto\u001b[1;34m(self, b)\u001b[0m\n\u001b[0;32m    718\u001b[0m \u001b[38;5;28;01mwhile\u001b[39;00m \u001b[38;5;28;01mTrue\u001b[39;00m:\n\u001b[0;32m    719\u001b[0m     \u001b[38;5;28;01mtry\u001b[39;00m:\n\u001b[1;32m--> 720\u001b[0m         \u001b[38;5;28;01mreturn\u001b[39;00m \u001b[38;5;28;43mself\u001b[39;49m\u001b[38;5;241;43m.\u001b[39;49m\u001b[43m_sock\u001b[49m\u001b[38;5;241;43m.\u001b[39;49m\u001b[43mrecv_into\u001b[49m\u001b[43m(\u001b[49m\u001b[43mb\u001b[49m\u001b[43m)\u001b[49m\n\u001b[0;32m    721\u001b[0m     \u001b[38;5;28;01mexcept\u001b[39;00m timeout:\n\u001b[0;32m    722\u001b[0m         \u001b[38;5;28mself\u001b[39m\u001b[38;5;241m.\u001b[39m_timeout_occurred \u001b[38;5;241m=\u001b[39m \u001b[38;5;28;01mTrue\u001b[39;00m\n",
            "\u001b[1;31mKeyboardInterrupt\u001b[0m: "
          ]
        }
      ],
      "source": [
        "driver_jobtopgun = webdriver.Chrome()  \n",
        "jobtopgun_jobs_data = []\n",
        "\n",
        "# Starting page number\n",
        "page_number = 1\n",
        "\n",
        "while True:\n",
        "    # Construct URL with the current page number\n",
        "    url = f'https://www.jobtopgun.com/en/jobs?keywords=data&page={page_number}'\n",
        "    print(f\"Navigating to jobtopgun 'data' search page number: {page_number}\")\n",
        "    \n",
        "    try:\n",
        "        # Navigate to the webpage\n",
        "        driver_jobtopgun.get(url)\n",
        "        wait = WebDriverWait(driver_jobtopgun, 10)\n",
        "        original_window = driver_jobtopgun.current_window_handle  # Hold Current windows\n",
        "\n",
        "        jobtopgun_data_firstpage = []\n",
        "        i = 1  # Start with the first job listing\n",
        "\n",
        "        while True:\n",
        "            xpath = f'//*[@id=\"scrollable-job-cards-container\"]/a[{i}]/div[1]'\n",
        "            try:\n",
        "                # Wait for the element to be clickable\n",
        "                element = wait.until(EC.element_to_be_clickable((By.XPATH, xpath)))\n",
        "                element.click()\n",
        "\n",
        "                # Wait for the new window/tab to open and switch to it\n",
        "                wait.until(EC.number_of_windows_to_be(2))\n",
        "                new_window = [window for window in driver_jobtopgun.window_handles if window != original_window][0]\n",
        "                driver_jobtopgun.switch_to.window(new_window)\n",
        "\n",
        "                # Scrape data from the job detail page\n",
        "                try:\n",
        "                    # Details to scrape data\n",
        "                    job_title = driver_jobtopgun.find_element(By.XPATH, '//h1[@class=\"font-medium text-sub-primary text-lg\"]').text\n",
        "                    company_name = driver_jobtopgun.find_element(By.XPATH, '//span[@class=\"flex-1 font-medium text-lg\"]').text\n",
        "                    industry = driver_jobtopgun.find_element(By.XPATH, '//*[@id=\"job-details\"]/div[1]/div/div[1]/div[1]/section/div[1]/span').text\n",
        "                    posted_time = driver_jobtopgun.find_element(By.XPATH, '//*[@id=\"job-details\"]/div[1]/div/div[1]/div[1]/section/div/span').text\n",
        "                    experience = driver_jobtopgun.find_element(By.XPATH, '//*[@id=\"job-details\"]/div[2]/section[1]/div/div[2]/span').text\n",
        "                    salary = driver_jobtopgun.find_element(By.XPATH, '//*[@id=\"job-details\"]/div[2]/section[1]/div/div[2]/span').text\n",
        "                    education = driver_jobtopgun.find_element(By.XPATH, '//*[@id=\"job-details\"]/div[2]/section[1]/div/div[4]/span').text\n",
        "                    location = driver_jobtopgun.find_element(By.XPATH, '//*[@id=\"job-details\"]/div[2]/section[1]/div/div[5]/span').text\n",
        "                    responsibility = driver_jobtopgun.find_element(By.XPATH, '//*[@id=\"job-details\"]/div[2]/section[2]/div').text\n",
        "                    requirements = driver_jobtopgun.find_element(By.XPATH, '//*[@id=\"job-details\"]/div[2]/section[3]').text\n",
        "                    welfare_and_benefits = driver_jobtopgun.find_element(By.XPATH, '//*[@id=\"job-details\"]/div[2]/section[4]').text\n",
        "                    \n",
        "                    job_info = {\n",
        "                        \"job_title\": job_title,\n",
        "                        \"company_name\": company_name,\n",
        "                        \"industry\": industry,\n",
        "                        \"job_url\": driver_jobtopgun.current_url,\n",
        "                        \"posted_time\": posted_time,\n",
        "                        \"experience\": experience,\n",
        "                        \"salary\": salary,\n",
        "                        \"education\": education,\n",
        "                        \"location\": location,\n",
        "                        \"responsibility\": responsibility,\n",
        "                        \"requirements\": requirements,\n",
        "                        \"welfare_and_benefits\": welfare_and_benefits\n",
        "                    }\n",
        "                    jobtopgun_data_firstpage.append(job_info)\n",
        "                    print(f\"Scraped data for job [{i}]: {job_info}\")\n",
        "                except Exception as e:\n",
        "                    print(f\"Failed to scrape data for job [{i}]: {e}\")\n",
        "                \n",
        "                driver_jobtopgun.close()\n",
        "                driver_jobtopgun.switch_to.window(original_window)\n",
        "\n",
        "            except Exception as e:\n",
        "                print(f\"Failed to handle element a[{i}]: {e}\")\n",
        "                break  # Exit the loop if element is not found or not clickable\n",
        "\n",
        "            i += 1  # Move to the next job listing\n",
        "\n",
        "        # If no jobs are found, assume there are no more pages to scrape\n",
        "        if not jobtopgun_data_firstpage:\n",
        "            print(f\"No data found on page {page_number}. Stopping.\")\n",
        "            break\n",
        "\n",
        "        # Append the current page's data to the overall data list\n",
        "        jobtopgun_jobs_data.extend(jobtopgun_data_firstpage)\n",
        "\n",
        "        # Increment page number to move to the next page\n",
        "        page_number += 1\n",
        "\n",
        "    except Exception as main_exception:\n",
        "        print(f\"Error while navigating to page {page_number}: {main_exception}\")\n",
        "        break\n",
        "\n",
        "driver_jobtopgun.quit()\n",
        "\n",
        "print(f\"Scraping complete. Total jobs scraped: {len(jobtopgun_jobs_data)}\")\n"
      ]
    },
    {
      "cell_type": "code",
      "execution_count": 13,
      "id": "ea92ad32",
      "metadata": {},
      "outputs": [],
      "source": [
        "jobtopgun_jobs_data = pd.DataFrame(jobtopgun_jobs_data)"
      ]
    },
    {
      "cell_type": "code",
      "execution_count": 14,
      "id": "317f3e99",
      "metadata": {},
      "outputs": [
        {
          "data": {
            "text/html": [
              "<div>\n",
              "<style scoped>\n",
              "    .dataframe tbody tr th:only-of-type {\n",
              "        vertical-align: middle;\n",
              "    }\n",
              "\n",
              "    .dataframe tbody tr th {\n",
              "        vertical-align: top;\n",
              "    }\n",
              "\n",
              "    .dataframe thead th {\n",
              "        text-align: right;\n",
              "    }\n",
              "</style>\n",
              "<table border=\"1\" class=\"dataframe\">\n",
              "  <thead>\n",
              "    <tr style=\"text-align: right;\">\n",
              "      <th></th>\n",
              "      <th>job_title</th>\n",
              "      <th>company_name</th>\n",
              "      <th>industry</th>\n",
              "      <th>job_url</th>\n",
              "      <th>posted_time</th>\n",
              "      <th>experience</th>\n",
              "      <th>salary</th>\n",
              "      <th>education</th>\n",
              "      <th>location</th>\n",
              "      <th>responsibility</th>\n",
              "      <th>requirements</th>\n",
              "      <th>welfare_and_benefits</th>\n",
              "    </tr>\n",
              "  </thead>\n",
              "  <tbody>\n",
              "    <tr>\n",
              "      <th>0</th>\n",
              "      <td>A Data Protection Officer (DPO)</td>\n",
              "      <td>Sri Trang Agro-Industry Public Co., Ltd.</td>\n",
              "      <td>Sri Trang Agro-Industry Public Co., Ltd.</td>\n",
              "      <td>https://www.jobtopgun.com/en/job/4084/505</td>\n",
              "      <td>Today</td>\n",
              "      <td>1 - 3 Year</td>\n",
              "      <td>1 - 3 Year</td>\n",
              "      <td>Master's Degree</td>\n",
              "      <td>Negotiable</td>\n",
              "      <td>1. Ensure Compliance: Monitor and ensure the o...</td>\n",
              "      <td>Requirements\\nBachelor's or Master's degree in...</td>\n",
              "      <td>Welfare and Benefits\\nMedical insurance\\nProvi...</td>\n",
              "    </tr>\n",
              "    <tr>\n",
              "      <th>1</th>\n",
              "      <td>Data Governance and Data Analytic Specialist</td>\n",
              "      <td>Isuzu Motors (Thailand) Co.,Ltd.</td>\n",
              "      <td>Isuzu Motors (Thailand) Co.,Ltd.</td>\n",
              "      <td>https://www.jobtopgun.com/en/job/1309/274</td>\n",
              "      <td>Today</td>\n",
              "      <td>10 - 20 Year</td>\n",
              "      <td>10 - 20 Year</td>\n",
              "      <td>Bachelor's Degree or Higher</td>\n",
              "      <td>Negotiable</td>\n",
              "      <td>Key Responsibilities\\n• Management and promote...</td>\n",
              "      <td>Requirements\\nProfile &amp; Qualifications Require...</td>\n",
              "      <td>Welfare and Benefits\\nAnnual leave maximum 14 ...</td>\n",
              "    </tr>\n",
              "    <tr>\n",
              "      <th>2</th>\n",
              "      <td>Data analysis officer</td>\n",
              "      <td>Isuzu Motors (Thailand) Co.,Ltd.</td>\n",
              "      <td>Isuzu Motors (Thailand) Co.,Ltd.</td>\n",
              "      <td>https://www.jobtopgun.com/en/job/1309/273</td>\n",
              "      <td>Today</td>\n",
              "      <td>0 - 3 Year</td>\n",
              "      <td>0 - 3 Year</td>\n",
              "      <td>Bachelor's Degree</td>\n",
              "      <td>Negotiable</td>\n",
              "      <td>Key Responsibilities\\n• Data analysis\\n- Analy...</td>\n",
              "      <td>Requirements\\nProfile &amp; Qualifications Require...</td>\n",
              "      <td>Welfare and Benefits\\nAnnual leave maximum 14 ...</td>\n",
              "    </tr>\n",
              "    <tr>\n",
              "      <th>3</th>\n",
              "      <td>เจ้าหน้าที่ Data Support / Data Mining</td>\n",
              "      <td>Advice IT Infinite PCL</td>\n",
              "      <td>Advice IT Infinite PCL</td>\n",
              "      <td>https://www.jobtopgun.com/en/job/20196/92</td>\n",
              "      <td>Today</td>\n",
              "      <td>1 Year</td>\n",
              "      <td>1 Year</td>\n",
              "      <td>Bachelor's Degree</td>\n",
              "      <td>18,000 - 20,000 baht/month + Commission</td>\n",
              "      <td>- Maintenance ดูแลฐานข้อมูล\\n- Validate ตรวจสอ...</td>\n",
              "      <td>Requirements\\n- ไม่จำกัดเพศ อายุ 22-30 ปี\\n- ว...</td>\n",
              "      <td>Welfare and Benefits\\nProvident Fund\\nStaff tr...</td>\n",
              "    </tr>\n",
              "    <tr>\n",
              "      <th>4</th>\n",
              "      <td>Data Engineer</td>\n",
              "      <td>Advice IT Infinite PCL</td>\n",
              "      <td>Advice IT Infinite PCL</td>\n",
              "      <td>https://www.jobtopgun.com/en/job/20196/94</td>\n",
              "      <td>Today</td>\n",
              "      <td>1 - 3 Year</td>\n",
              "      <td>1 - 3 Year</td>\n",
              "      <td>Bachelor's Degree</td>\n",
              "      <td>18,000 - 20,000 baht/month + Commission</td>\n",
              "      <td>- ออกแบบ สร้าง ดูแลระบบการจัดเก็บข้อมูล การประ...</td>\n",
              "      <td>Requirements\\n- ไม่จำกัดเพศ อายุ 23 - 30 ปี\\n-...</td>\n",
              "      <td>Welfare and Benefits\\nProvident Fund\\nStaff tr...</td>\n",
              "    </tr>\n",
              "    <tr>\n",
              "      <th>...</th>\n",
              "      <td>...</td>\n",
              "      <td>...</td>\n",
              "      <td>...</td>\n",
              "      <td>...</td>\n",
              "      <td>...</td>\n",
              "      <td>...</td>\n",
              "      <td>...</td>\n",
              "      <td>...</td>\n",
              "      <td>...</td>\n",
              "      <td>...</td>\n",
              "      <td>...</td>\n",
              "      <td>...</td>\n",
              "    </tr>\n",
              "    <tr>\n",
              "      <th>460</th>\n",
              "      <td>พนักงานคีย์ข้อมูล</td>\n",
              "      <td>Honda Trading Asia Co., Ltd.</td>\n",
              "      <td>Honda Trading Asia Co., Ltd.</td>\n",
              "      <td>https://www.jobtopgun.com/en/job/5351/258</td>\n",
              "      <td>Trading/Import/Export</td>\n",
              "      <td>0 - 3 Year</td>\n",
              "      <td>0 - 3 Year</td>\n",
              "      <td>Diploma of Vocational Education or higher</td>\n",
              "      <td>10,000 - 12,000 baht/month</td>\n",
              "      <td>บริษัท ฮอนด้า เทรดดิ้ง เอเชีย จำกัด ดำเนินธุรก...</td>\n",
              "      <td>Requirements\\nเพศชายหรือหญิง อายุระหว่าง 21-35...</td>\n",
              "      <td>Welfare and Benefits\\nFlexible Working Hour (0...</td>\n",
              "    </tr>\n",
              "    <tr>\n",
              "      <th>461</th>\n",
              "      <td>O&amp;M Engineer Solar farm (Lopburi)</td>\n",
              "      <td>Sermsang Power Corporation PLC.</td>\n",
              "      <td>Sermsang Power Corporation PLC.</td>\n",
              "      <td>https://www.jobtopgun.com/en/job/34210/89</td>\n",
              "      <td>Petroleum/Energy/Mining</td>\n",
              "      <td>0 - 2 Year</td>\n",
              "      <td>0 - 2 Year</td>\n",
              "      <td>Bachelor's Degree or Higher</td>\n",
              "      <td>Negotiable</td>\n",
              "      <td>• Maintaining site performances in terms of Pe...</td>\n",
              "      <td>Requirements\\n• Bachelor Bachelor’s Degree in ...</td>\n",
              "      <td>Welfare and Benefits\\nLife insurance\\nProviden...</td>\n",
              "    </tr>\n",
              "    <tr>\n",
              "      <th>462</th>\n",
              "      <td>Sales Engineer (chachoengsao)</td>\n",
              "      <td>Bangkok Cable Co., Ltd.</td>\n",
              "      <td>Bangkok Cable Co., Ltd.</td>\n",
              "      <td>https://www.jobtopgun.com/en/job/17794/43</td>\n",
              "      <td>02/09/2024</td>\n",
              "      <td>2 - 5 Year</td>\n",
              "      <td>2 - 5 Year</td>\n",
              "      <td>Bachelor's Degree</td>\n",
              "      <td>Negotiable</td>\n",
              "      <td>• Searching for new clients who could benefit ...</td>\n",
              "      <td>Requirements\\n• BA/BE Degree in Business Admin...</td>\n",
              "      <td>Welfare and Benefits\\nAnnual salary adjustment...</td>\n",
              "    </tr>\n",
              "    <tr>\n",
              "      <th>463</th>\n",
              "      <td>เจ้าหน้าที่พัฒนาธุรกิจ(CSR) เจ้าหน้าที่ธนบดีธน...</td>\n",
              "      <td>Bank of Ayudhya PLC (BAY)</td>\n",
              "      <td>Bank of Ayudhya PLC (BAY)</td>\n",
              "      <td>https://www.jobtopgun.com/en/job/3349/2125</td>\n",
              "      <td>Financial/Banking/Securities</td>\n",
              "      <td>2 - 20 Year</td>\n",
              "      <td>2 - 20 Year</td>\n",
              "      <td>Bachelor's Degree</td>\n",
              "      <td>Negotiable + Commission</td>\n",
              "      <td>นำเสนอ ให้คำแนะนำและปิดการขายในผลิตภัณฑ์และบริ...</td>\n",
              "      <td>Requirements\\n1.จบวุฒิการศึกษาระดับปริญญาตรีขึ...</td>\n",
              "      <td>Welfare and Benefits\\nProvident Fund\\nStaff tr...</td>\n",
              "    </tr>\n",
              "    <tr>\n",
              "      <th>464</th>\n",
              "      <td>Senior Electrical Engineer</td>\n",
              "      <td>Fuji Electric Manufacturing (Thailand) Co.,Ltd.</td>\n",
              "      <td>Fuji Electric Manufacturing (Thailand) Co.,Ltd.</td>\n",
              "      <td>https://www.jobtopgun.com/en/job/550/215</td>\n",
              "      <td>Electronic</td>\n",
              "      <td>10 - 15 Year</td>\n",
              "      <td>10 - 15 Year</td>\n",
              "      <td>No degree requirement</td>\n",
              "      <td>40,000 - 80,000 baht/month</td>\n",
              "      <td>● Lead projects as assigned and performing con...</td>\n",
              "      <td>Requirements\\n● Bachelor's degree or higher in...</td>\n",
              "      <td>Welfare and Benefits\\nAnnual salary increment\\...</td>\n",
              "    </tr>\n",
              "  </tbody>\n",
              "</table>\n",
              "<p>465 rows × 12 columns</p>\n",
              "</div>"
            ],
            "text/plain": [
              "                                             job_title  \\\n",
              "0                      A Data Protection Officer (DPO)   \n",
              "1         Data Governance and Data Analytic Specialist   \n",
              "2                                Data analysis officer   \n",
              "3               เจ้าหน้าที่ Data Support / Data Mining   \n",
              "4                                        Data Engineer   \n",
              "..                                                 ...   \n",
              "460                                  พนักงานคีย์ข้อมูล   \n",
              "461                  O&M Engineer Solar farm (Lopburi)   \n",
              "462                      Sales Engineer (chachoengsao)   \n",
              "463  เจ้าหน้าที่พัฒนาธุรกิจ(CSR) เจ้าหน้าที่ธนบดีธน...   \n",
              "464                         Senior Electrical Engineer   \n",
              "\n",
              "                                        company_name  \\\n",
              "0           Sri Trang Agro-Industry Public Co., Ltd.   \n",
              "1                   Isuzu Motors (Thailand) Co.,Ltd.   \n",
              "2                   Isuzu Motors (Thailand) Co.,Ltd.   \n",
              "3                             Advice IT Infinite PCL   \n",
              "4                             Advice IT Infinite PCL   \n",
              "..                                               ...   \n",
              "460                     Honda Trading Asia Co., Ltd.   \n",
              "461                  Sermsang Power Corporation PLC.   \n",
              "462                          Bangkok Cable Co., Ltd.   \n",
              "463                        Bank of Ayudhya PLC (BAY)   \n",
              "464  Fuji Electric Manufacturing (Thailand) Co.,Ltd.   \n",
              "\n",
              "                                            industry  \\\n",
              "0           Sri Trang Agro-Industry Public Co., Ltd.   \n",
              "1                   Isuzu Motors (Thailand) Co.,Ltd.   \n",
              "2                   Isuzu Motors (Thailand) Co.,Ltd.   \n",
              "3                             Advice IT Infinite PCL   \n",
              "4                             Advice IT Infinite PCL   \n",
              "..                                               ...   \n",
              "460                     Honda Trading Asia Co., Ltd.   \n",
              "461                  Sermsang Power Corporation PLC.   \n",
              "462                          Bangkok Cable Co., Ltd.   \n",
              "463                        Bank of Ayudhya PLC (BAY)   \n",
              "464  Fuji Electric Manufacturing (Thailand) Co.,Ltd.   \n",
              "\n",
              "                                        job_url                   posted_time  \\\n",
              "0     https://www.jobtopgun.com/en/job/4084/505                         Today   \n",
              "1     https://www.jobtopgun.com/en/job/1309/274                         Today   \n",
              "2     https://www.jobtopgun.com/en/job/1309/273                         Today   \n",
              "3     https://www.jobtopgun.com/en/job/20196/92                         Today   \n",
              "4     https://www.jobtopgun.com/en/job/20196/94                         Today   \n",
              "..                                          ...                           ...   \n",
              "460   https://www.jobtopgun.com/en/job/5351/258         Trading/Import/Export   \n",
              "461   https://www.jobtopgun.com/en/job/34210/89       Petroleum/Energy/Mining   \n",
              "462   https://www.jobtopgun.com/en/job/17794/43                    02/09/2024   \n",
              "463  https://www.jobtopgun.com/en/job/3349/2125  Financial/Banking/Securities   \n",
              "464    https://www.jobtopgun.com/en/job/550/215                    Electronic   \n",
              "\n",
              "       experience        salary                                  education  \\\n",
              "0      1 - 3 Year    1 - 3 Year                            Master's Degree   \n",
              "1    10 - 20 Year  10 - 20 Year                Bachelor's Degree or Higher   \n",
              "2      0 - 3 Year    0 - 3 Year                          Bachelor's Degree   \n",
              "3          1 Year        1 Year                          Bachelor's Degree   \n",
              "4      1 - 3 Year    1 - 3 Year                          Bachelor's Degree   \n",
              "..            ...           ...                                        ...   \n",
              "460    0 - 3 Year    0 - 3 Year  Diploma of Vocational Education or higher   \n",
              "461    0 - 2 Year    0 - 2 Year                Bachelor's Degree or Higher   \n",
              "462    2 - 5 Year    2 - 5 Year                          Bachelor's Degree   \n",
              "463   2 - 20 Year   2 - 20 Year                          Bachelor's Degree   \n",
              "464  10 - 15 Year  10 - 15 Year                      No degree requirement   \n",
              "\n",
              "                                    location  \\\n",
              "0                                 Negotiable   \n",
              "1                                 Negotiable   \n",
              "2                                 Negotiable   \n",
              "3    18,000 - 20,000 baht/month + Commission   \n",
              "4    18,000 - 20,000 baht/month + Commission   \n",
              "..                                       ...   \n",
              "460               10,000 - 12,000 baht/month   \n",
              "461                               Negotiable   \n",
              "462                               Negotiable   \n",
              "463                  Negotiable + Commission   \n",
              "464               40,000 - 80,000 baht/month   \n",
              "\n",
              "                                        responsibility  \\\n",
              "0    1. Ensure Compliance: Monitor and ensure the o...   \n",
              "1    Key Responsibilities\\n• Management and promote...   \n",
              "2    Key Responsibilities\\n• Data analysis\\n- Analy...   \n",
              "3    - Maintenance ดูแลฐานข้อมูล\\n- Validate ตรวจสอ...   \n",
              "4    - ออกแบบ สร้าง ดูแลระบบการจัดเก็บข้อมูล การประ...   \n",
              "..                                                 ...   \n",
              "460  บริษัท ฮอนด้า เทรดดิ้ง เอเชีย จำกัด ดำเนินธุรก...   \n",
              "461  • Maintaining site performances in terms of Pe...   \n",
              "462  • Searching for new clients who could benefit ...   \n",
              "463  นำเสนอ ให้คำแนะนำและปิดการขายในผลิตภัณฑ์และบริ...   \n",
              "464  ● Lead projects as assigned and performing con...   \n",
              "\n",
              "                                          requirements  \\\n",
              "0    Requirements\\nBachelor's or Master's degree in...   \n",
              "1    Requirements\\nProfile & Qualifications Require...   \n",
              "2    Requirements\\nProfile & Qualifications Require...   \n",
              "3    Requirements\\n- ไม่จำกัดเพศ อายุ 22-30 ปี\\n- ว...   \n",
              "4    Requirements\\n- ไม่จำกัดเพศ อายุ 23 - 30 ปี\\n-...   \n",
              "..                                                 ...   \n",
              "460  Requirements\\nเพศชายหรือหญิง อายุระหว่าง 21-35...   \n",
              "461  Requirements\\n• Bachelor Bachelor’s Degree in ...   \n",
              "462  Requirements\\n• BA/BE Degree in Business Admin...   \n",
              "463  Requirements\\n1.จบวุฒิการศึกษาระดับปริญญาตรีขึ...   \n",
              "464  Requirements\\n● Bachelor's degree or higher in...   \n",
              "\n",
              "                                  welfare_and_benefits  \n",
              "0    Welfare and Benefits\\nMedical insurance\\nProvi...  \n",
              "1    Welfare and Benefits\\nAnnual leave maximum 14 ...  \n",
              "2    Welfare and Benefits\\nAnnual leave maximum 14 ...  \n",
              "3    Welfare and Benefits\\nProvident Fund\\nStaff tr...  \n",
              "4    Welfare and Benefits\\nProvident Fund\\nStaff tr...  \n",
              "..                                                 ...  \n",
              "460  Welfare and Benefits\\nFlexible Working Hour (0...  \n",
              "461  Welfare and Benefits\\nLife insurance\\nProviden...  \n",
              "462  Welfare and Benefits\\nAnnual salary adjustment...  \n",
              "463  Welfare and Benefits\\nProvident Fund\\nStaff tr...  \n",
              "464  Welfare and Benefits\\nAnnual salary increment\\...  \n",
              "\n",
              "[465 rows x 12 columns]"
            ]
          },
          "execution_count": 14,
          "metadata": {},
          "output_type": "execute_result"
        }
      ],
      "source": [
        "jobtopgun_jobs_data"
      ]
    },
    {
      "cell_type": "markdown",
      "id": "b749b78a",
      "metadata": {},
      "source": []
    },
    {
      "cell_type": "markdown",
      "id": "d8b31e54",
      "metadata": {},
      "source": []
    },
    {
      "cell_type": "markdown",
      "id": "e9dce255",
      "metadata": {},
      "source": []
    },
    {
      "cell_type": "markdown",
      "id": "756e5c95",
      "metadata": {},
      "source": []
    },
    {
      "cell_type": "markdown",
      "id": "53f2978a",
      "metadata": {},
      "source": [
        "## Job Bkk"
      ]
    },
    {
      "cell_type": "code",
      "execution_count": 6,
      "id": "562bee2b",
      "metadata": {},
      "outputs": [],
      "source": [
        "search_word = 'data'"
      ]
    },
    {
      "cell_type": "code",
      "execution_count": 7,
      "id": "beb6d21b",
      "metadata": {},
      "outputs": [],
      "source": [
        "driver_jobbkk = webdriver.Chrome()  \n",
        "jobbkk_jobs_data = []"
      ]
    },
    {
      "cell_type": "code",
      "execution_count": 18,
      "id": "b43f06d5",
      "metadata": {},
      "outputs": [
        {
          "ename": "TimeoutException",
          "evalue": "Message: \n",
          "output_type": "error",
          "traceback": [
            "\u001b[1;31m---------------------------------------------------------------------------\u001b[0m",
            "\u001b[1;31mTimeoutException\u001b[0m                          Traceback (most recent call last)",
            "Cell \u001b[1;32mIn[18], line 26\u001b[0m\n\u001b[0;32m     23\u001b[0m link\u001b[38;5;241m.\u001b[39mclick()\n\u001b[0;32m     25\u001b[0m \u001b[38;5;66;03m# Switch to the new tab or window\u001b[39;00m\n\u001b[1;32m---> 26\u001b[0m \u001b[43mWebDriverWait\u001b[49m\u001b[43m(\u001b[49m\u001b[43mdriver_jobbkk\u001b[49m\u001b[43m,\u001b[49m\u001b[43m \u001b[49m\u001b[38;5;241;43m10\u001b[39;49m\u001b[43m)\u001b[49m\u001b[38;5;241;43m.\u001b[39;49m\u001b[43muntil\u001b[49m\u001b[43m(\u001b[49m\u001b[43mEC\u001b[49m\u001b[38;5;241;43m.\u001b[39;49m\u001b[43mnumber_of_windows_to_be\u001b[49m\u001b[43m(\u001b[49m\u001b[38;5;241;43m2\u001b[39;49m\u001b[43m)\u001b[49m\u001b[43m)\u001b[49m\n\u001b[0;32m     27\u001b[0m new_window \u001b[38;5;241m=\u001b[39m [window \u001b[38;5;28;01mfor\u001b[39;00m window \u001b[38;5;129;01min\u001b[39;00m driver_jobbkk\u001b[38;5;241m.\u001b[39mwindow_handles \u001b[38;5;28;01mif\u001b[39;00m window \u001b[38;5;241m!=\u001b[39m original_window][\u001b[38;5;241m0\u001b[39m]\n\u001b[0;32m     28\u001b[0m driver_jobbkk\u001b[38;5;241m.\u001b[39mswitch_to\u001b[38;5;241m.\u001b[39mwindow(new_window)\n",
            "File \u001b[1;32m~\\AppData\\Local\\Packages\\PythonSoftwareFoundation.Python.3.12_qbz5n2kfra8p0\\LocalCache\\local-packages\\Python312\\site-packages\\selenium\\webdriver\\support\\wait.py:105\u001b[0m, in \u001b[0;36mWebDriverWait.until\u001b[1;34m(self, method, message)\u001b[0m\n\u001b[0;32m    103\u001b[0m     \u001b[38;5;28;01mif\u001b[39;00m time\u001b[38;5;241m.\u001b[39mmonotonic() \u001b[38;5;241m>\u001b[39m end_time:\n\u001b[0;32m    104\u001b[0m         \u001b[38;5;28;01mbreak\u001b[39;00m\n\u001b[1;32m--> 105\u001b[0m \u001b[38;5;28;01mraise\u001b[39;00m TimeoutException(message, screen, stacktrace)\n",
            "\u001b[1;31mTimeoutException\u001b[0m: Message: \n"
          ]
        }
      ],
      "source": [
        "# Initialize WebDriver and WebDriverWait\n",
        "driver_jobbkk = webdriver.Chrome()\n",
        "wait = WebDriverWait(driver_jobbkk, 10)  # Adjust the timeout as needed\n",
        "\n",
        "# Open the webpage\n",
        "driver_jobbkk.get(\"https://www.jobbkk.com/jobs/lists/1/%E0%B8%AB%E0%B8%B2%E0%B8%87%E0%B8%B2%E0%B8%99,data,%E0%B8%97%E0%B8%B8%E0%B8%81%E0%B8%88%E0%B8%B1%E0%B8%87%E0%B8%AB%E0%B8%A7%E0%B8%B1%E0%B8%94,%E0%B8%97%E0%B8%B1%E0%B9%89%E0%B8%87%E0%B8%AB%E0%B8%A1%E0%B8%94.html?keyword_type=3&member_user_id=1\")\n",
        "\n",
        "# Store the original window handle\n",
        "original_window = driver_jobbkk.current_window_handle\n",
        "\n",
        "# Wait for the element to be present and then scroll into view\n",
        "element = wait.until(EC.presence_of_element_located((By.XPATH, '/html/body/section[7]/article/section/div[1]/div[6]/div/div[2]/div[2]/div/div[1]')))\n",
        "driver_jobbkk.execute_script(\"arguments[0].scrollIntoView();\", element)\n",
        "\n",
        "# Wait for the link that opens in a new tab to be clickable and click it\n",
        "wait = WebDriverWait(driver_jobbkk, 10)\n",
        "link = wait.until(EC.element_to_be_clickable((By.XPATH, '/html/body/section[7]/article/section/div[1]/div[6]/div/div[3]/div/ul/li[3]/a')))\n",
        "link.click()\n",
        "\n",
        "# test to scrape data\n",
        "company_name = driver_jobtopgun.find_element(By.XPATH,'/html/body/section[5]/article/div/article/section[2]/article[1]/div/div[2]/p').text\n",
        "jobbkk_info = {'company_name':company_name}\n",
        "\n",
        "driver_jobbkk.back()"
      ]
    },
    {
      "cell_type": "code",
      "execution_count": 21,
      "id": "0315285c",
      "metadata": {},
      "outputs": [
        {
          "name": "stdout",
          "output_type": "stream",
          "text": [
            "{'company_name': 'Data Engineer รับสมัครด่วน'}\n"
          ]
        }
      ],
      "source": [
        "from selenium import webdriver\n",
        "from selenium.webdriver.common.by import By\n",
        "from selenium.webdriver.support.ui import WebDriverWait\n",
        "from selenium.webdriver.support import expected_conditions as EC\n",
        "import time\n",
        "\n",
        "# Initialize WebDriver and WebDriverWait\n",
        "driver_jobbkk = webdriver.Chrome()\n",
        "wait = WebDriverWait(driver_jobbkk, 10)  # Adjust the timeout as needed\n",
        "\n",
        "try:\n",
        "    # Open the webpage\n",
        "    driver_jobbkk.get(\"https://www.jobbkk.com/jobs/lists/1/%E0%B8%AB%E0%B8%B2%E0%B8%87%E0%B8%B2%E0%B8%99,data,%E0%B8%97%E0%B8%B8%E0%B8%81%E0%B8%88%E0%B8%B1%E0%B8%87%E0%B8%AB%E0%B8%A7%E0%B8%B1%E0%B8%94,%E0%B8%97%E0%B8%B1%E0%B8%87%E0%B8%AB%E0%B8%A1%E0%B8%94.html?keyword_type=3&member_user_id=1\")\n",
        "\n",
        "    # Store the original window handle\n",
        "    original_window = driver_jobbkk.current_window_handle\n",
        "\n",
        "    # Wait for the element to be present and then scroll into view\n",
        "    element = wait.until(EC.presence_of_element_located((By.XPATH, '/html/body/section[7]/article/section/div[1]/div[6]/div/div[2]/div[2]/div/div[1]')))\n",
        "    driver_jobbkk.execute_script(\"arguments[0].scrollIntoView();\", element)\n",
        "\n",
        "    # Wait for the link to be present and then use JavaScript to open it in a new tab\n",
        "    link = wait.until(EC.presence_of_element_located((By.XPATH, '/html/body/section[7]/article/section/div[1]/div[6]/div/div[3]/div/ul/li[3]/a')))\n",
        "    driver_jobbkk.execute_script(\"window.open(arguments[0].href);\", link)\n",
        "\n",
        "    # Wait for new window/tab to open\n",
        "    time.sleep(5)  # Ensure the new tab has time to open\n",
        "    windows = driver_jobbkk.window_handles\n",
        "    if len(windows) == 2:\n",
        "        new_window = [window for window in windows if window != original_window][0]\n",
        "        driver_jobbkk.switch_to.window(new_window)\n",
        "\n",
        "        # Test to scrape data\n",
        "        try:\n",
        "            company_name = driver_jobbkk.find_element(By.XPATH, '/html/body/section[5]/article/div/article/section[2]/article[1]/div/div[2]/p').text\n",
        "            jobbkk_info = {'company_name': company_name}\n",
        "            print(jobbkk_info)\n",
        "        except Exception as e:\n",
        "            print(f\"Error scraping data: {e}\")\n",
        "\n",
        "    else:\n",
        "        print(\"Expected a new window to open, but it did not.\")\n",
        "\n",
        "finally:\n",
        "    # Close the browser\n",
        "    driver_jobbkk.quit()\n"
      ]
    },
    {
      "cell_type": "code",
      "execution_count": 22,
      "id": "33d8f85d",
      "metadata": {},
      "outputs": [
        {
          "name": "stdout",
          "output_type": "stream",
          "text": [
            "{'company_name': 'Data Engineer รับสมัครด่วน'}\n"
          ]
        }
      ],
      "source": [
        "from selenium import webdriver\n",
        "from selenium.webdriver.common.by import By\n",
        "from selenium.webdriver.support.ui import WebDriverWait\n",
        "from selenium.webdriver.support import expected_conditions as EC\n",
        "import time\n",
        "\n",
        "# Initialize WebDriver and WebDriverWait\n",
        "driver_jobbkk = webdriver.Chrome()\n",
        "wait = WebDriverWait(driver_jobbkk, 10)  # Adjust the timeout as needed\n",
        "\n",
        "try:\n",
        "    # Step 1: Open the main URL\n",
        "    driver_jobbkk.get(\"https://www.jobbkk.com/jobs/lists/1/%E0%B8%AB%E0%B8%B2%E0%B8%87%E0%B8%B2%E0%B8%99,data,%E0%B8%97%E0%B8%B8%E0%B8%81%E0%B8%88%E0%B8%B1%E0%B8%87%E0%B8%AB%E0%B8%A7%E0%B8%B1%E0%B8%94,%E0%B8%97%E0%B8%B1%E0%B8%87%E0%B8%AB%E0%B8%A1%E0%B8%94.html?keyword_type=3&member_user_id=1\")\n",
        "\n",
        "    # Step 2: Click the element to open a new tab\n",
        "    element_to_open_new_tab = wait.until(EC.presence_of_element_located((By.XPATH, '/html/body/section[7]/article/section/div[1]/div[6]/div/div[3]/div/ul/li[3]/a')))\n",
        "    driver_jobbkk.execute_script(\"window.open(arguments[0].href);\", element_to_open_new_tab)\n",
        "\n",
        "    # Step 3: Switch to the new tab\n",
        "    WebDriverWait(driver_jobbkk, 10).until(lambda d: len(d.window_handles) == 2)  # Wait for the new tab to open\n",
        "    original_window = driver_jobbkk.current_window_handle\n",
        "    new_window = [window for window in driver_jobbkk.window_handles if window != original_window][0]\n",
        "    driver_jobbkk.switch_to.window(new_window)\n",
        "\n",
        "    # Step 4: Scrape data from the new tab\n",
        "    try:\n",
        "        company_name = driver_jobbkk.find_element(By.XPATH, '/html/body/section[5]/article/div/article/section[2]/article[1]/div/div[2]/p').text\n",
        "        jobbkk_info = {'company_name': company_name}\n",
        "        print(jobbkk_info)\n",
        "    except Exception as e:\n",
        "        print(f\"Error scraping data: {e}\")\n",
        "\n",
        "    # Step 5: Close the new tab and switch back to the main tab\n",
        "    driver_jobbkk.close()\n",
        "    driver_jobbkk.switch_to.window(original_window)\n",
        "\n",
        "finally:\n",
        "    # Close the browser\n",
        "    driver_jobbkk.quit()\n"
      ]
    },
    {
      "cell_type": "code",
      "execution_count": null,
      "id": "ccd4ba1f",
      "metadata": {},
      "outputs": [],
      "source": [
        "/html/body/section[7]/article/section/div[1]/div[6]/div/div[3]/div/ul/li[3]/a"
      ]
    },
    {
      "cell_type": "code",
      "execution_count": null,
      "id": "a6cb718c",
      "metadata": {},
      "outputs": [],
      "source": [
        "/html/body/section[7]/article/section/div[1]/div[8]/div/div[3]/div/ul/li[3]/a"
      ]
    },
    {
      "cell_type": "code",
      "execution_count": null,
      "id": "5fed5b7a",
      "metadata": {},
      "outputs": [],
      "source": [
        "/html/body/section[7]/article/section/div[1]/div[10]/div/div[3]/div/ul/li[3]/a"
      ]
    },
    {
      "cell_type": "code",
      "execution_count": null,
      "id": "eb940c67",
      "metadata": {},
      "outputs": [],
      "source": [
        "/html/body/section[7]/article/section/div[1]/div[24]/div/div[3]/div/ul/li[3]/a"
      ]
    },
    {
      "cell_type": "code",
      "execution_count": 14,
      "id": "649b91f8",
      "metadata": {},
      "outputs": [
        {
          "ename": "SyntaxError",
          "evalue": "invalid syntax (2421741417.py, line 2)",
          "output_type": "error",
          "traceback": [
            "\u001b[1;36m  Cell \u001b[1;32mIn[14], line 2\u001b[1;36m\u001b[0m\n\u001b[1;33m    jobbkk_info =\u001b[0m\n\u001b[1;37m                  ^\u001b[0m\n\u001b[1;31mSyntaxError\u001b[0m\u001b[1;31m:\u001b[0m invalid syntax\n"
          ]
        }
      ],
      "source": [
        "company_name = driver_jobtopgun.find_element(by.XPATH,'/html/body/section[5]/article/div/article/section[2]/article[1]/div/div[2]/p')\n",
        "jobbkk_info = {'company_name':company_name}"
      ]
    },
    {
      "cell_type": "code",
      "execution_count": null,
      "id": "8bf42680",
      "metadata": {},
      "outputs": [],
      "source": [
        "job_title = driver_jobtopgun.find_element(By.XPATH, '//h1[@class=\"font-medium text-sub-primary text-lg\"]').text\n",
        "                    company_name = driver_jobtopgun.find_element(By.XPATH, '//span[@class=\"flex-1 font-medium text-lg\"]').text\n",
        "                    industry = driver_jobtopgun.find_element(By.XPATH, '//*[@id=\"job-details\"]/div[1]/div/div[1]/div[1]/section/div[1]/span').text\n",
        "                    posted_time = driver_jobtopgun.find_element(By.XPATH, '//*[@id=\"job-details\"]/div[1]/div/div[1]/div[1]/section/div/span').text\n",
        "                    experience = driver_jobtopgun.find_element(By.XPATH, '//*[@id=\"job-details\"]/div[2]/section[1]/div/div[2]/span').text\n",
        "                    salary = driver_jobtopgun.find_element(By.XPATH, '//*[@id=\"job-details\"]/div[2]/section[1]/div/div[2]/span').text\n",
        "                    education = driver_jobtopgun.find_element(By.XPATH, '//*[@id=\"job-details\"]/div[2]/section[1]/div/div[4]/span').text\n",
        "                    location = driver_jobtopgun.find_element(By.XPATH, '//*[@id=\"job-details\"]/div[2]/section[1]/div/div[5]/span').text\n",
        "                    responsibility = driver_jobtopgun.find_element(By.XPATH, '//*[@id=\"job-details\"]/div[2]/section[2]/div').text\n",
        "                    requirements = driver_jobtopgun.find_element(By.XPATH, '//*[@id=\"job-details\"]/div[2]/section[3]').text\n",
        "                    welfare_and_benefits = driver_jobtopgun.find_element(By.XPATH, '//*[@id=\"job-details\"]/div[2]/section[4]').text\n",
        "                    \n",
        "                    job_info = {\n",
        "                        \"job_title\": job_title,\n",
        "                        \"company_name\": company_name,\n",
        "                        \"industry\": industry,\n",
        "                        \"job_url\": driver_jobtopgun.current_url,\n",
        "                        \"posted_time\": posted_time,\n",
        "                        \"experience\": experience,\n",
        "                        \"salary\": salary,\n",
        "                        \"education\": education,\n",
        "                        \"location\": location,\n",
        "                        \"responsibility\": responsibility,\n",
        "                        \"requirements\": requirements,\n",
        "                        \"welfare_and_benefits\": welfare_and_benefits\n",
        "                    }"
      ]
    },
    {
      "cell_type": "code",
      "execution_count": null,
      "id": "98b717ce",
      "metadata": {},
      "outputs": [],
      "source": []
    },
    {
      "cell_type": "code",
      "execution_count": null,
      "id": "1abde4c5",
      "metadata": {},
      "outputs": [],
      "source": []
    }
  ],
  "metadata": {
    "colab": {
      "provenance": []
    },
    "kernelspec": {
      "display_name": "Python 3 (ipykernel)",
      "language": "python",
      "name": "python3"
    },
    "language_info": {
      "codemirror_mode": {
        "name": "ipython",
        "version": 3
      },
      "file_extension": ".py",
      "mimetype": "text/x-python",
      "name": "python",
      "nbconvert_exporter": "python",
      "pygments_lexer": "ipython3",
      "version": "3.12.2"
    }
  },
  "nbformat": 4,
  "nbformat_minor": 5
}
